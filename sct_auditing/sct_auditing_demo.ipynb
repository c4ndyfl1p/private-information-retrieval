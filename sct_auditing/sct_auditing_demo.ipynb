{
 "cells": [
  {
   "cell_type": "code",
   "execution_count": 50,
   "metadata": {},
   "outputs": [],
   "source": [
    "from setup_data_structure import *\n",
    "from regev_encryption_schemised import *\n",
    "import json\n",
    "import hashlib\n",
    "import numpy as np\n",
    "from toy_pir import *"
   ]
  },
  {
   "cell_type": "code",
   "execution_count": 51,
   "metadata": {},
   "outputs": [
    {
     "name": "stdout",
     "output_type": "stream",
     "text": [
      "3\n",
      "<class 'dict'>\n",
      "{'sct_version': 1, 'log_id': 'VWhJdXZrS0pIUFFrUk5ER2JDaWU=', 'timestamp': 1652934758000, 'extensions': '', 'signature': 'MEUCIQDqZIjuNXmV+Rm9dl7h4/u+vZG3+Yj5CISgAzimuths/aiEQIgNupUwGiW8QHfy7WqIuYGCuR+cPkryBJcRqRHTLFa4='}\n",
      "[[0 1 0 0 1]\n",
      " [0 1 1 0 0]\n",
      " [0 1 1 0 0]\n",
      " [0 1 1 0 0]\n",
      " [1 0 1 1 0]]\n",
      "[b'salt0', b'salt1', b'salt2', b'salt3', b'salt4']\n"
     ]
    }
   ],
   "source": [
    "# SCT logger/server sets up the data structure\n",
    "\n",
    "file_path = \"Example_SCTs.json\"\n",
    "\n",
    "# Read the JSON data from the file\n",
    "with open(file_path, 'r') as file:\n",
    "    sct_list = json.load(file)\n",
    "\n",
    "# Output the loaded data to verify\n",
    "print(len(sct_list))\n",
    "print(type(sct_list[0]))\n",
    "print(sct_list[0])\n",
    "\n",
    "data_structure_for_sct = setup_a_function_bloom_filter(sct_list, 5)\n",
    "\n",
    "# print(data_structure_for_sct)\n",
    "# print(type(data_structure_for_sct))\n",
    "\n",
    "print(data_structure_for_sct[\"a_function_bloom_filter\"])\n",
    "print(data_structure_for_sct[\"salt_list\"])\n"
   ]
  },
  {
   "cell_type": "code",
   "execution_count": 52,
   "metadata": {},
   "outputs": [
    {
     "name": "stdout",
     "output_type": "stream",
     "text": [
      "Client: I want to privately an index i(which only I know) of row:3\n"
     ]
    }
   ],
   "source": [
    "rand_row = 3 # the randomly chosen row, publically shown to the auditoe\n",
    "\n",
    "print(f\"Client: I want to privately read an index i(which only I know) of row:{rand_row}\")"
   ]
  },
  {
   "cell_type": "code",
   "execution_count": 58,
   "metadata": {},
   "outputs": [
    {
     "name": "stdout",
     "output_type": "stream",
     "text": [
      "Auditor: cool\n"
     ]
    }
   ],
   "source": [
    "print(f\"Auditor: cool\")\n",
    "\n",
    "db = data_structure_for_sct[\"a_function_bloom_filter\"][rand_row]\n"
   ]
  },
  {
   "cell_type": "code",
   "execution_count": 59,
   "metadata": {},
   "outputs": [
    {
     "name": "stdout",
     "output_type": "stream",
     "text": [
      "{'sct_version': 1, 'log_id': 'c2ltcGxlRXhhbXBsZUxvZ0lkSEFTSA==', 'timestamp': 1652934958000, 'extensions': '', 'signature': 'MEYCIQDzKb/5vOM4EQLBqpGaNqhYk1+8rMIz290NX9aZLo/idQIhAJLpSzs25KRO9yYoGvUwDbX5SxVp5DhppXdCN7maF2E3'}\n",
      "2\n",
      "privately: need to check if index: 2 of row3 is 1 or not\n",
      "Sending the query to the server...\n"
     ]
    }
   ],
   "source": [
    "# client\n",
    "\n",
    "\n",
    "bloom_filter_size = 5\n",
    "sct_to_check = sct_list[2]\n",
    "\n",
    "\n",
    "# i want to check if sct_list[2] is in the data structure\n",
    "# get the third salt from the auditor\n",
    "ith_salt = data_structure_for_sct[\"salt_list\"][rand_row]\n",
    "\n",
    "print(sct_to_check)\n",
    "\n",
    "sct_i_hashed = serialise_and_hash(ith_salt, sct_to_check)\n",
    "index_in_j = get_index_in_bloom_filter( bloom_filter_size, sct_i_hashed)\n",
    "\n",
    "print(index_in_j)\n",
    "\n",
    "print(f\"privately: need to check if index: {index_in_j} of row{rand_row} is 1 or not\")\n",
    "\n",
    "desired_idx = index_in_j\n",
    "s = keygen()\n",
    "query = generate_query(desired_idx)\n",
    "\n",
    "print(\"Sending the query to the server...\")\n",
    "\n"
   ]
  },
  {
   "cell_type": "code",
   "execution_count": 55,
   "metadata": {},
   "outputs": [],
   "source": [
    "# server \n",
    "\n",
    "answer = answer_query(query, db)\n",
    "\n",
    "\n"
   ]
  },
  {
   "cell_type": "code",
   "execution_count": 56,
   "metadata": {},
   "outputs": [
    {
     "name": "stdout",
     "output_type": "stream",
     "text": [
      "Got the answer back from the server...\n",
      "The item at index 2 of the database is 1\n"
     ]
    }
   ],
   "source": [
    "print(\"Got the answer back from the server...\")\n",
    "\n",
    "\n",
    "result = decrypt(s, answer)\n",
    "\n",
    "print(\"The item at index %d of the database is %d\" % (desired_idx, result))"
   ]
  }
 ],
 "metadata": {
  "kernelspec": {
   "display_name": "Python 3",
   "language": "python",
   "name": "python3"
  },
  "language_info": {
   "codemirror_mode": {
    "name": "ipython",
    "version": 3
   },
   "file_extension": ".py",
   "mimetype": "text/x-python",
   "name": "python",
   "nbconvert_exporter": "python",
   "pygments_lexer": "ipython3",
   "version": "3.10.12"
  }
 },
 "nbformat": 4,
 "nbformat_minor": 2
}
