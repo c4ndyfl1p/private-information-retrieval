{
 "cells": [
  {
   "cell_type": "markdown",
   "metadata": {},
   "source": [
    "# Ostrofsky's rootN times rootN PIR scheme based on Learning with Errors and Regev Encryption :\n",
    "\n",
    "Using parameters from the paper: **One server for the price of Two: Simple and Fast Single-Server Private Information Retreival**\n",
    "\n",
    "Here the number of LWE samples(m) = m"
   ]
  },
  {
   "cell_type": "code",
   "execution_count": 1,
   "metadata": {},
   "outputs": [
    {
     "name": "stdout",
     "output_type": "stream",
     "text": [
      "scaling_factor = floor(q/p) = 8464.0\n",
      "[   0. 8464.    0.    0.    0.    0.    0.    0.    0.    0.]\n",
      "x = [0. 1. 0. 0. 0. 0. 0. 0. 0. 0.]\n",
      "db = [[854 966  95 838 248 876 408 332 394 543]\n",
      " [ 13 726 161 541 139 707 343  30  28 763]\n",
      " [704 481 671 543 213 616  51 166 706 149]\n",
      " [ 86 628 372 301 979 919 919 349 770 959]\n",
      " [154 763 428 319  14 246 552  97 606 771]\n",
      " [170 607 508 158  45 754 836 646 234 658]\n",
      " [435 149 682 134 898 530 430 255  69 250]\n",
      " [521 521 790 650 649 621 385 480 792 882]\n",
      " [847 864 753 660 874  61 217 714 186  11]\n",
      " [110 508 909 511 530  64 662 567 550 944]]\n"
     ]
    }
   ],
   "source": [
    "import numpy as np\n",
    "\n",
    "\n",
    "# parameters\n",
    "n = 2**10\n",
    "m = 10 # sqrt(N), number of samples\n",
    "\n",
    "error_values = {\n",
    "    \"loc\": 0,\n",
    "    \"sigma\": 6.4,\n",
    "}\n",
    "q = 2**23\n",
    "p = 991 # plaintext modulus\n",
    "scaling_factor = np.floor(q/p)\n",
    "\n",
    "\n",
    "print(f\"scaling_factor = floor(q/p) = {np.floor(q/p)}\")\n",
    "\n",
    "x = np.zeros(m)\n",
    "x[1]=1\n",
    "print(x * scaling_factor)\n",
    "print(f\"x = {x}\")\n",
    "\n",
    "db = np.random.randint(0, p, (m,m))\n",
    "print(f\"db = {db}\")"
   ]
  },
  {
   "cell_type": "code",
   "execution_count": 2,
   "metadata": {},
   "outputs": [],
   "source": [
    "#using matrices (when you have m samples)\n",
    "\n",
    "\n",
    "def sampleLWE(m,n,q,error_values, s):\n",
    "    A= np.random.randint(0, q, (m,n))\n",
    "    \n",
    "    e= np.random.normal(error_values[\"loc\"], error_values[\"sigma\"], (m) )\n",
    "\n",
    "    print(f\"A = {A}\")\n",
    "    print(f\"s = {s}\")\n",
    "    # print(f\"e = {e}\")\n",
    "\n",
    "\n",
    "    # Computing the dot product and adding the error\n",
    "\n",
    "    # Outputting the vectors a, s and the value b\n",
    "\n",
    "    b = (np.dot(A,s)  + e ) % q\n",
    "    print(f\"b = As + e mod q = {b}\")\n",
    "    b_prime = (np.dot(A,s) % q + e)\n",
    "\n",
    "\n",
    "    return A, b_prime\n",
    "\n",
    "\n"
   ]
  },
  {
   "cell_type": "code",
   "execution_count": 3,
   "metadata": {},
   "outputs": [],
   "source": [
    "# print(f\"A = \", A)\n",
    "# print(type(A), A.shape)\n",
    "# print(f\"s = \", s)\n",
    "# print(type(s), s.shape)\n",
    "# print(f\"e = \", e)\n",
    "# print(type(e), e.shape)"
   ]
  },
  {
   "cell_type": "code",
   "execution_count": 4,
   "metadata": {},
   "outputs": [
    {
     "name": "stdout",
     "output_type": "stream",
     "text": [
      "A = [[3532177 1091081 3446668 ... 3330815 2565741 2878772]\n",
      " [6865052 3693163 5907124 ... 5588628 5314853 2323205]\n",
      " [1952124 6634517  514713 ... 1046282 7262642 6288454]\n",
      " ...\n",
      " [6546718 1352470 7265633 ... 8345914 4572747 5647770]\n",
      " [7773654 6401648 1834570 ... 6575348 6428763 2487190]\n",
      " [5437943 6355535 4090662 ... 6116866 3653500 3432956]]\n",
      "s = [3336880 1384367 2928838 ...  608071 5547207 4627919]\n",
      "b = As + e mod q = [2486068. 7986488. 2905592. 3323872. 5057212. 6646520. 5584152. 2208124.\n",
      " 3493320. 3178768.]\n"
     ]
    }
   ],
   "source": [
    "secret= np.random.randint(0, q, (n))\n",
    "\n",
    "A, b = sampleLWE(m,n,q,error_values, secret)"
   ]
  },
  {
   "cell_type": "code",
   "execution_count": 5,
   "metadata": {},
   "outputs": [],
   "source": [
    "# print(f\"as mod q = {np.dot(A, s)% q}\")\n",
    "\n",
    "# print(f\"(b = As mod q + e ) mod q = \", b)\n",
    "\n",
    "# print(f\" b_prime = As + e mod q    = {b_prime}\")"
   ]
  },
  {
   "cell_type": "code",
   "execution_count": 6,
   "metadata": {},
   "outputs": [],
   "source": [
    "# Encryption\n",
    "\n",
    "def regevEncrypt(b, x, p, q):\n",
    "    scaling_factor = np.floor(q/p)\n",
    "    c =( b + scaling_factor*x ) \n",
    "    c_mod_q = c % q\n",
    "\n",
    "    \n",
    "\n",
    "    # print(f\"c= As + e + (floor(q/p) * x) \\n \\\\ \\\n",
    "    # = As + e + {scaling_factor}*{x} = {c} = {c_mod_q}\")\n",
    "\n",
    "    return c_mod_q"
   ]
  },
  {
   "cell_type": "code",
   "execution_count": 7,
   "metadata": {},
   "outputs": [
    {
     "name": "stdout",
     "output_type": "stream",
     "text": [
      "[2486068.55181588 7994950.78853992 2905591.63712138 3323871.62870821\n",
      " 5057211.01771312 6646520.6555271  5584151.40213928 2208125.21756655\n",
      " 3493320.77348278 3178770.67012963]\n"
     ]
    }
   ],
   "source": [
    "\n",
    "\n",
    "c = regevEncrypt(b, x, p, q)\n",
    "print(c)"
   ]
  },
  {
   "cell_type": "markdown",
   "metadata": {},
   "source": [
    "Send Client --- (mu_enc = A, c) ----> Server"
   ]
  },
  {
   "cell_type": "code",
   "execution_count": 8,
   "metadata": {},
   "outputs": [
    {
     "name": "stdout",
     "output_type": "stream",
     "text": [
      "[[4569027 1290456 5628061 ...  244682  561836 5030340]\n",
      " [1068981 3205415 4976589 ... 7889867 2460143 1622580]\n",
      " [4729709 4669933 4126824 ... 5304611 6513511 4864606]\n",
      " ...\n",
      " [  13280 2632944 3045854 ... 4196291 8147312 7238969]\n",
      " [4604963 7586510 7499812 ... 7780761 1345059 3214006]\n",
      " [4097948 5141071  236154 ... 5539716 7322709 7688346]]\n",
      "[1113776.93645859 7580325.70825958 1977674.79397964 1487992.41289139\n",
      " 2905305.87447739 2918226.1872139  3281273.93385696 1000387.79800415\n",
      "  589624.70074081   86819.62728119]\n"
     ]
    }
   ],
   "source": [
    "# server computations:\n",
    "\n",
    "# D dot A\n",
    "\n",
    "# do you reduce the entire thing modulo q or at the end only\n",
    "\n",
    "DA = np.dot(db,A) % q\n",
    "Dc = np.dot(db,c) % q\n",
    "\n",
    "print(DA)\n",
    "print(Dc)"
   ]
  },
  {
   "cell_type": "code",
   "execution_count": 9,
   "metadata": {},
   "outputs": [],
   "source": [
    "#Decryption\n",
    "\n",
    "# print(np.dot(a, s), np.dot(a,s) % q)\n",
    "\n",
    "def rounding(x, round_off_to):\n",
    "    \"\"\"\n",
    "    Rounds off a number x to the nearest multiple of round_off_to.\n",
    "\n",
    "    :param x: The number to be rounded off.\n",
    "    :param round_off_to: The nearest multiple to which x needs to be rounded off.\n",
    "    :return: The rounded off value.\n",
    "    \"\"\"\n",
    "    return np.round(x / round_off_to) * round_off_to\n",
    "\n",
    "# def regevDecrpt(A, s, q, p, c):\n",
    "#     scaling_factor = np.floor(q/p)\n",
    "#     # a_s_mod_q = np.dot(A,s)%q \n",
    "#     # print(f\"a_s_modq = as mod q = \", a_s_mod_q)\n",
    "\n",
    "#     d_hat = (c - np.dot(A, s)) % q \n",
    "\n",
    "#     print(f\"d_hat = c - as mod q= {c} - {np.dot(A,s)} mod q = \", d_hat)\n",
    "#     rounded_d = rounding(d_hat, scaling_factor)\n",
    "\n",
    "\n",
    "\n",
    "#     print(f\"rounded d = {rounded_d}\")\n",
    "    \n",
    "#     d = rounded_d / scaling_factor\n",
    "#     print(f\"d = rounded_d/ floor(q/p)= {rounded_d}/ {scaling_factor} = {d}\" )\n",
    "#     return d\n",
    "\n",
    "\n",
    "\n",
    "\n"
   ]
  },
  {
   "cell_type": "code",
   "execution_count": 10,
   "metadata": {},
   "outputs": [
    {
     "name": "stdout",
     "output_type": "stream",
     "text": [
      "[[4569027 1290456 5628061 ...  244682  561836 5030340]\n",
      " [1068981 3205415 4976589 ... 7889867 2460143 1622580]\n",
      " [4729709 4669933 4126824 ... 5304611 6513511 4864606]\n",
      " ...\n",
      " [  13280 2632944 3045854 ... 4196291 8147312 7238969]\n",
      " [4604963 7586510 7499812 ... 7780761 1345059 3214006]\n",
      " [4097948 5141071  236154 ... 5539716 7322709 7688346]]\n",
      "[1113776.93645859 7580325.70825958 1977674.79397964 1487992.41289139\n",
      " 2905305.87447739 2918226.1872139  3281273.93385696 1000387.79800415\n",
      "  589624.70074081   86819.62728119]\n"
     ]
    }
   ],
   "source": [
    "print(DA)\n",
    "print(Dc)"
   ]
  },
  {
   "cell_type": "code",
   "execution_count": 11,
   "metadata": {},
   "outputs": [
    {
     "name": "stdout",
     "output_type": "stream",
     "text": [
      "d_hat = 8176584.0\n",
      "d_hat_prime = 8176584.0\n",
      "rounded d = 8176224.0\n",
      "d = rounded_d/ floor(q/p)= 8176224.0/ 8464.0 = 966.0\n",
      "[[854 966  95 838 248 876 408 332 394 543]\n",
      " [ 13 726 161 541 139 707 343  30  28 763]\n",
      " [704 481 671 543 213 616  51 166 706 149]\n",
      " [ 86 628 372 301 979 919 919 349 770 959]\n",
      " [154 763 428 319  14 246 552  97 606 771]\n",
      " [170 607 508 158  45 754 836 646 234 658]\n",
      " [435 149 682 134 898 530 430 255  69 250]\n",
      " [521 521 790 650 649 621 385 480 792 882]\n",
      " [847 864 753 660 874  61 217 714 186  11]\n",
      " [110 508 909 511 530  64 662 567 550 944]]\n"
     ]
    }
   ],
   "source": [
    "d_hat = ( Dc[0] - np.dot(DA[0], secret) ) % q\n",
    "print(f\"d_hat = {d_hat}\")\n",
    "\n",
    "d_hat_prime = ( Dc[0] - ( np.dot(DA[0], secret) % q  ) ) % q\n",
    "print(f\"d_hat_prime = {d_hat}\")\n",
    "\n",
    "rounded_d = rounding(d_hat_prime, scaling_factor)\n",
    "\n",
    "\n",
    "\n",
    "print(f\"rounded d = {rounded_d}\")\n",
    "\n",
    "d = rounded_d / scaling_factor\n",
    "print(f\"d = rounded_d/ floor(q/p)= {rounded_d}/ {scaling_factor} = {d}\" )\n",
    "\n",
    "print(db)"
   ]
  },
  {
   "cell_type": "code",
   "execution_count": 12,
   "metadata": {},
   "outputs": [],
   "source": [
    "# print(f\"x = {x}\")\n",
    "# d = regevDecrpt(A, secret, q, p, c = Dc[0])"
   ]
  }
 ],
 "metadata": {
  "kernelspec": {
   "display_name": "Python 3",
   "language": "python",
   "name": "python3"
  },
  "language_info": {
   "codemirror_mode": {
    "name": "ipython",
    "version": 3
   },
   "file_extension": ".py",
   "mimetype": "text/x-python",
   "name": "python",
   "nbconvert_exporter": "python",
   "pygments_lexer": "ipython3",
   "version": "3.10.12"
  }
 },
 "nbformat": 4,
 "nbformat_minor": 2
}
