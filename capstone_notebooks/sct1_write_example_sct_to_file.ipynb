{
 "cells": [
  {
   "cell_type": "code",
   "execution_count": 2,
   "metadata": {},
   "outputs": [
    {
     "data": {
      "text/plain": [
       "'Example_SCTs.json'"
      ]
     },
     "execution_count": 2,
     "metadata": {},
     "output_type": "execute_result"
    }
   ],
   "source": [
    "# Properly create and write the SCTs to a JSON file\n",
    "\n",
    "import json\n",
    "\n",
    "# Example SCTs as dictionary objects\n",
    "sct_data = [\n",
    "    {\n",
    "        \"sct_version\": 1,\n",
    "        \"log_id\": \"VWhJdXZrS0pIUFFrUk5ER2JDaWU=\",\n",
    "        \"timestamp\": 1652934758000,\n",
    "        \"extensions\": \"\",\n",
    "        \"signature\": \"MEUCIQDqZIjuNXmV+Rm9dl7h4/u+vZG3+Yj5CISgAzimuths/aiEQIgNupUwGiW8QHfy7WqIuYGCuR+cPkryBJcRqRHTLFa4=\"\n",
    "    },\n",
    "    {\n",
    "        \"sct_version\": 1,\n",
    "        \"log_id\": \"dXNlck5hbWVJRFJ1bm5pbmdLZXk=\",\n",
    "        \"timestamp\": 1652934858000,\n",
    "        \"extensions\": \"\",\n",
    "        \"signature\": \"MEQCIF2O7Mr502uViBcN9h7Zv8BpdQWqvmD7AzhThsQFSSAiB6OaiCisVlvzWxw6OLQQZdQnIUlScVqPat2XtVuewvzK==\"\n",
    "    },\n",
    "    {\n",
    "        \"sct_version\": 1,\n",
    "        \"log_id\": \"c2ltcGxlRXhhbXBsZUxvZ0lkSEFTSA==\",\n",
    "        \"timestamp\": 1652934958000,\n",
    "        \"extensions\": \"\",\n",
    "        \"signature\": \"MEYCIQDzKb/5vOM4EQLBqpGaNqhYk1+8rMIz290NX9aZLo/idQIhAJLpSzs25KRO9yYoGvUwDbX5SxVp5DhppXdCN7maF2E3\"\n",
    "    }\n",
    "]\n",
    "\n",
    "# Path to save the file\n",
    "file_path = 'Example_SCTs.json'\n",
    "\n",
    "# Write the SCT data to a JSON file\n",
    "with open(file_path, 'w') as file:\n",
    "    json.dump(sct_data, file)\n",
    "\n",
    "file_path  # Output the file path for reference\n"
   ]
  }
 ],
 "metadata": {
  "kernelspec": {
   "display_name": "Python 3",
   "language": "python",
   "name": "python3"
  },
  "language_info": {
   "codemirror_mode": {
    "name": "ipython",
    "version": 3
   },
   "file_extension": ".py",
   "mimetype": "text/x-python",
   "name": "python",
   "nbconvert_exporter": "python",
   "pygments_lexer": "ipython3",
   "version": "3.10.12"
  }
 },
 "nbformat": 4,
 "nbformat_minor": 2
}
