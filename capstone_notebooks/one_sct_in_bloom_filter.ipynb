{
 "cells": [
  {
   "cell_type": "markdown",
   "metadata": {},
   "source": [
    "# populate the bloom filter  \n",
    "  \n",
    "Read one SCT from file\n",
    "serialise it\n",
    "hash it\n",
    "put it in bloom filer"
   ]
  },
  {
   "cell_type": "code",
   "execution_count": 49,
   "metadata": {},
   "outputs": [
    {
     "name": "stdout",
     "output_type": "stream",
     "text": [
      "3\n",
      "<class 'dict'>\n",
      "{'sct_version': 1, 'log_id': 'VWhJdXZrS0pIUFFrUk5ER2JDaWU=', 'timestamp': 1652934758000, 'extensions': '', 'signature': 'MEUCIQDqZIjuNXmV+Rm9dl7h4/u+vZG3+Yj5CISgAzimuths/aiEQIgNupUwGiW8QHfy7WqIuYGCuR+cPkryBJcRqRHTLFa4='}\n"
     ]
    }
   ],
   "source": [
    "# read SCTs\n",
    "\n",
    "\n",
    "import json\n",
    "\n",
    "# read SCTS from a JSON encoded file\n",
    "# Path to the JSON file\n",
    "file_path = 'Example_SCTs.json'\n",
    "\n",
    "# Read the JSON data from the file\n",
    "with open(file_path, 'r') as file:\n",
    "    sct_list = json.load(file)\n",
    "\n",
    "# Output the loaded data to verify\n",
    "print(len(sct_list))\n",
    "print(type(sct_list[0]))\n",
    "print(sct_list[0])\n",
    "\n"
   ]
  },
  {
   "cell_type": "markdown",
   "metadata": {},
   "source": []
  },
  {
   "cell_type": "code",
   "execution_count": 50,
   "metadata": {},
   "outputs": [],
   "source": [
    "# testing out functionality\n",
    "\n",
    "# import json\n",
    "# import hashlib\n",
    "\n",
    "\n",
    "# # Serialize the SCT1 data into a JSON string\n",
    "# sct1_serialized = json.dumps(sct_list[0])\n",
    "\n",
    "# # Define a salt (this should be kept secure and used consistently if needed for verification later)\n",
    "# salt = b'my_secure_salt'\n",
    "\n",
    "# # Create a SHA256 hash object and update it with the salt and the serialized data\n",
    "# hash_obj = hashlib.sha256()\n",
    "# hash_obj.update(salt)  # Update with the salt\n",
    "# hash_obj.update(sct1_serialized.encode())  # Update with the serialized SCT1 data\n",
    "\n",
    "# # Get the hexadecimal representation of the hash\n",
    "# sct1_hashed = hash_obj.hexdigest()\n",
    "\n",
    "# # Output the hashed SCT1\n",
    "# print(sct1_hashed)\n"
   ]
  },
  {
   "cell_type": "code",
   "execution_count": 51,
   "metadata": {},
   "outputs": [
    {
     "name": "stdout",
     "output_type": "stream",
     "text": [
      "efd1b0ab32452c7e0afe1e42df065cc597ccb11a646e24ee767d97ffd13e1359\n",
      "<class 'str'>\n"
     ]
    }
   ],
   "source": [
    "#functionised\n",
    "\n",
    "import json\n",
    "import hashlib\n",
    "\n",
    "def serialise_and_hash(salt, sct):\n",
    "    \"\"\"salt : <class 'bytes'>\n",
    "        sct : <class 'dict'>\n",
    "\n",
    "        return: <class 'str'>\n",
    "    \"\"\"\n",
    "    # Serialize the SCT1 data into a JSON string\n",
    "    sct_serialized = json.dumps(sct)\n",
    "\n",
    "    # Define a salt (this should be kept secure and used consistently if needed for verification later)\n",
    "    # salt = b'my_secure_salt'\n",
    "\n",
    "    # Create a SHA256 hash object and update it with the salt and the serialized data\n",
    "    hash_obj = hashlib.sha256()\n",
    "    hash_obj.update(salt)  # Update with the salt\n",
    "    hash_obj.update(sct_serialized.encode())  # Update with the serialized SCT1 data\n",
    "\n",
    "    # Get the hexadecimal representation of the hash\n",
    "    sct_hashed = hash_obj.hexdigest()\n",
    "\n",
    "    # Output the hashed SCT1\n",
    "    return sct_hashed\n",
    "\n",
    "\n",
    "# Define a salt (this should be kept secure and used consistently if needed for verification later)\n",
    "salt = b'my_secure_salt'\n",
    "sct1_hashed = serialise_and_hash( salt, sct_list[0])\n",
    "print(sct1_hashed)\n",
    "print(type(sct1_hashed))"
   ]
  },
  {
   "cell_type": "code",
   "execution_count": 52,
   "metadata": {},
   "outputs": [
    {
     "data": {
      "text/plain": [
       "[0, 0, 1, 0, 0]"
      ]
     },
     "execution_count": 52,
     "metadata": {},
     "output_type": "execute_result"
    }
   ],
   "source": [
    "import hashlib\n",
    "\n",
    "# Define the Bloom filter size\n",
    "bloom_filter_size = 5  # Smaller size for demonstration\n",
    "bloom_filter = [0] * bloom_filter_size  # Initialize the Bloom filter with zeros\n",
    "\n",
    "# Example SHA-256 hash (as if computed from serialized SCT1 with a salt)\n",
    "# sct1_hashed = 'a3b291cf2bf8eb0e45084af1b2a66554f3a44ed7bfa9b7166eaf0174a5d6d7c7'\n",
    "\n",
    "# Convert the hash to an index for the Bloom filter\n",
    "# Typically, the hash is converted to an integer and taken modulo the size of the Bloom filter\n",
    "hash_as_integer = int(sct1_hashed, 16)  # Convert hex hash to an integer\n",
    "index = hash_as_integer % bloom_filter_size  # Compute index for the Bloom filter\n",
    "\n",
    "# Update the Bloom filter\n",
    "bloom_filter[index] = 1  # Set the bit at the index to 1\n",
    "\n",
    "# Output the entire Bloom filter to confirm the update\n",
    "bloom_filter\n"
   ]
  },
  {
   "cell_type": "code",
   "execution_count": 53,
   "metadata": {},
   "outputs": [],
   "source": [
    "# Define the Bloom filter size\n",
    "bloom_filter_size = 5  # Smaller size for demonstration\n",
    "bloom_filter = [0] * bloom_filter_size  # Initialize the Bloom filter with zeros\n",
    "no_of_hash_functions = 5"
   ]
  },
  {
   "cell_type": "code",
   "execution_count": 54,
   "metadata": {},
   "outputs": [
    {
     "name": "stdout",
     "output_type": "stream",
     "text": [
      "[[0 0 0 0 0]\n",
      " [0 0 0 0 0]\n",
      " [0 0 0 0 0]\n",
      " [0 0 0 0 0]\n",
      " [0 0 0 0 0]]\n"
     ]
    }
   ],
   "source": [
    "import numpy as np\n",
    "\n",
    "array1 = np.array(  [[0] * bloom_filter_size] * no_of_hash_functions  )\n",
    "\n",
    "print(array1)"
   ]
  },
  {
   "cell_type": "code",
   "execution_count": 55,
   "metadata": {},
   "outputs": [
    {
     "name": "stdout",
     "output_type": "stream",
     "text": [
      "efd1b0ab32452c7e0afe1e42df065cc597ccb11a646e24ee767d97ffd13e1359\n",
      "0\n"
     ]
    }
   ],
   "source": [
    "print(sct1_hashed)\n",
    "\n",
    "print(array1[0,1])"
   ]
  },
  {
   "cell_type": "code",
   "execution_count": 56,
   "metadata": {},
   "outputs": [
    {
     "name": "stdout",
     "output_type": "stream",
     "text": [
      "index is 2\n",
      "[[0 0 1 0 0]\n",
      " [0 0 0 0 0]\n",
      " [0 0 0 0 0]\n",
      " [0 0 0 0 0]\n",
      " [0 0 0 0 0]]\n"
     ]
    }
   ],
   "source": [
    "\n",
    "def get_index_in_bloom_filter( bloom_filter_size, hashed_sct):\n",
    "    # Convert the hash to an index for the Bloom filter\n",
    "\n",
    "    hash_as_integer = int(hashed_sct, 16)  # Convert hex hash to an integer\n",
    "    index = hash_as_integer % bloom_filter_size  # Compute index for the Bloom filter\n",
    "\n",
    "    print(f\"index is {index}\")\n",
    "   \n",
    "\n",
    "    # Output the index\n",
    "    return index\n",
    "\n",
    "\n",
    "index = get_index_in_bloom_filter( bloom_filter_size, sct1_hashed)\n",
    "# Update the Bloom filter\n",
    "array1[0, index] = 1  # Set the bit at the index to 1\n",
    "\n",
    "\n",
    "\n",
    "print(array1)"
   ]
  },
  {
   "cell_type": "code",
   "execution_count": 57,
   "metadata": {},
   "outputs": [
    {
     "name": "stdout",
     "output_type": "stream",
     "text": [
      "b'z\\xb8S\\xe4\\xaa\\xd7\\x8dA\\x11O\\xab\\x81\\x90\\x91\\xb9\\x82'\n"
     ]
    }
   ],
   "source": [
    "import os\n",
    "\n",
    "# Generate a random 16-byte salt\n",
    "random_salt = os.urandom(16)\n",
    "\n",
    "# Print the generated random salt\n",
    "print(random_salt)"
   ]
  },
  {
   "cell_type": "code",
   "execution_count": 58,
   "metadata": {},
   "outputs": [
    {
     "name": "stdout",
     "output_type": "stream",
     "text": [
      "[[0 0 0 0 0]\n",
      " [0 0 0 0 0]\n",
      " [0 0 0 0 0]\n",
      " [0 0 0 0 0]\n",
      " [0 0 0 0 0]]\n"
     ]
    }
   ],
   "source": [
    "salt0 = b'\\x02\\xa4Yq\\xf2u\\x87\\x90\\xa2\\r\\xeb\\xc8\\x1d\\xb4j\\x9f'\n",
    "salt1 = b'zN\\xd9)\\x12\\xe7\\xd61V\\x1b\\xe55\\xa7\\xd0\\xf2N'\n",
    "salt2 = b'\\x86\\x19\\x923<\\x1egQ\\xba\\x94\\x17^\\xaa\\xbe\\x1b\\x0f'\n",
    "salt3 = b'i\\x08\\x0f4$3\\xe6\\xfa\\x1e\\xc7\\xd2\\xab\\x05\"Lg'\n",
    "salt4 = b'{?(\\xbb@*\\xb3\\xec\\x8f\\xc5\\xea\\xf4X4\\xe2C'\n",
    "\n",
    "salt_list= [salt0, salt1, salt2, salt3, salt4]\n",
    "salt_list= [b'salt0', b'salt1', b'salt2', b'salt3', b'salt4']\n",
    "\n",
    "bloom_filter_size = 5  # Smaller size for demonstration\n",
    "bloom_filter_1 = np.array(  [[0] * bloom_filter_size] * no_of_hash_functions  ) # Initialize the Bloom filter with zeros\n",
    "no_of_hash_functions = bloom_filter_size\n",
    "print(bloom_filter_1)\n",
    "\n",
    "# for SCT 0\n",
    "# for i, sct in enumerate(sct_list):\n",
    "#     sct0_hashed = serialise_and_hash( salt0, sct_list[0])\n",
    "#     index = get_index_in_bloom_filter( bloom_filter_size, sct0_hashed)\n",
    "#     bloom_filter_1[i, index]=1\n",
    "\n",
    "# print(bloom_filter_1)\n",
    "\n",
    "\n",
    "\n"
   ]
  },
  {
   "cell_type": "code",
   "execution_count": 59,
   "metadata": {},
   "outputs": [
    {
     "name": "stdout",
     "output_type": "stream",
     "text": [
      "i: 0, sct: {'sct_version': 1, 'log_id': 'VWhJdXZrS0pIUFFrUk5ER2JDaWU=', 'timestamp': 1652934758000, 'extensions': '', 'signature': 'MEUCIQDqZIjuNXmV+Rm9dl7h4/u+vZG3+Yj5CISgAzimuths/aiEQIgNupUwGiW8QHfy7WqIuYGCuR+cPkryBJcRqRHTLFa4='}\n",
      "j: 0, salt: b'salt0'\n",
      "index is 4\n",
      "updating element 0, 4\n",
      "[[0 0 0 0 1]\n",
      " [0 0 0 0 0]\n",
      " [0 0 0 0 0]\n",
      " [0 0 0 0 0]\n",
      " [0 0 0 0 0]]\n",
      "j: 1, salt: b'salt1'\n",
      "index is 2\n",
      "updating element 1, 2\n",
      "[[0 0 0 0 1]\n",
      " [0 0 1 0 0]\n",
      " [0 0 0 0 0]\n",
      " [0 0 0 0 0]\n",
      " [0 0 0 0 0]]\n",
      "j: 2, salt: b'salt2'\n",
      "index is 1\n",
      "updating element 2, 1\n",
      "[[0 0 0 0 1]\n",
      " [0 0 1 0 0]\n",
      " [0 1 0 0 0]\n",
      " [0 0 0 0 0]\n",
      " [0 0 0 0 0]]\n",
      "j: 3, salt: b'salt3'\n",
      "index is 1\n",
      "updating element 3, 1\n",
      "[[0 0 0 0 1]\n",
      " [0 0 1 0 0]\n",
      " [0 1 0 0 0]\n",
      " [0 1 0 0 0]\n",
      " [0 0 0 0 0]]\n",
      "j: 4, salt: b'salt4'\n",
      "index is 0\n",
      "updating element 4, 0\n",
      "[[0 0 0 0 1]\n",
      " [0 0 1 0 0]\n",
      " [0 1 0 0 0]\n",
      " [0 1 0 0 0]\n",
      " [1 0 0 0 0]]\n",
      "i: 1, sct: {'sct_version': 1, 'log_id': 'dXNlck5hbWVJRFJ1bm5pbmdLZXk=', 'timestamp': 1652934858000, 'extensions': '', 'signature': 'MEQCIF2O7Mr502uViBcN9h7Zv8BpdQWqvmD7AzhThsQFSSAiB6OaiCisVlvzWxw6OLQQZdQnIUlScVqPat2XtVuewvzK=='}\n",
      "j: 0, salt: b'salt0'\n",
      "index is 4\n",
      "updating element 0, 4\n",
      "[[0 0 0 0 1]\n",
      " [0 0 1 0 0]\n",
      " [0 1 0 0 0]\n",
      " [0 1 0 0 0]\n",
      " [1 0 0 0 0]]\n",
      "j: 1, salt: b'salt1'\n",
      "index is 2\n",
      "updating element 1, 2\n",
      "[[0 0 0 0 1]\n",
      " [0 0 1 0 0]\n",
      " [0 1 0 0 0]\n",
      " [0 1 0 0 0]\n",
      " [1 0 0 0 0]]\n",
      "j: 2, salt: b'salt2'\n",
      "index is 2\n",
      "updating element 2, 2\n",
      "[[0 0 0 0 1]\n",
      " [0 0 1 0 0]\n",
      " [0 1 1 0 0]\n",
      " [0 1 0 0 0]\n",
      " [1 0 0 0 0]]\n",
      "j: 3, salt: b'salt3'\n",
      "index is 1\n",
      "updating element 3, 1\n",
      "[[0 0 0 0 1]\n",
      " [0 0 1 0 0]\n",
      " [0 1 1 0 0]\n",
      " [0 1 0 0 0]\n",
      " [1 0 0 0 0]]\n",
      "j: 4, salt: b'salt4'\n",
      "index is 3\n",
      "updating element 4, 3\n",
      "[[0 0 0 0 1]\n",
      " [0 0 1 0 0]\n",
      " [0 1 1 0 0]\n",
      " [0 1 0 0 0]\n",
      " [1 0 0 1 0]]\n",
      "i: 2, sct: {'sct_version': 1, 'log_id': 'c2ltcGxlRXhhbXBsZUxvZ0lkSEFTSA==', 'timestamp': 1652934958000, 'extensions': '', 'signature': 'MEYCIQDzKb/5vOM4EQLBqpGaNqhYk1+8rMIz290NX9aZLo/idQIhAJLpSzs25KRO9yYoGvUwDbX5SxVp5DhppXdCN7maF2E3'}\n",
      "j: 0, salt: b'salt0'\n",
      "index is 1\n",
      "updating element 0, 1\n",
      "[[0 1 0 0 1]\n",
      " [0 0 1 0 0]\n",
      " [0 1 1 0 0]\n",
      " [0 1 0 0 0]\n",
      " [1 0 0 1 0]]\n",
      "j: 1, salt: b'salt1'\n",
      "index is 1\n",
      "updating element 1, 1\n",
      "[[0 1 0 0 1]\n",
      " [0 1 1 0 0]\n",
      " [0 1 1 0 0]\n",
      " [0 1 0 0 0]\n",
      " [1 0 0 1 0]]\n",
      "j: 2, salt: b'salt2'\n",
      "index is 1\n",
      "updating element 2, 1\n",
      "[[0 1 0 0 1]\n",
      " [0 1 1 0 0]\n",
      " [0 1 1 0 0]\n",
      " [0 1 0 0 0]\n",
      " [1 0 0 1 0]]\n",
      "j: 3, salt: b'salt3'\n",
      "index is 2\n",
      "updating element 3, 2\n",
      "[[0 1 0 0 1]\n",
      " [0 1 1 0 0]\n",
      " [0 1 1 0 0]\n",
      " [0 1 1 0 0]\n",
      " [1 0 0 1 0]]\n",
      "j: 4, salt: b'salt4'\n",
      "index is 2\n",
      "updating element 4, 2\n",
      "[[0 1 0 0 1]\n",
      " [0 1 1 0 0]\n",
      " [0 1 1 0 0]\n",
      " [0 1 1 0 0]\n",
      " [1 0 1 1 0]]\n",
      "[[0 1 0 0 1]\n",
      " [0 1 1 0 0]\n",
      " [0 1 1 0 0]\n",
      " [0 1 1 0 0]\n",
      " [1 0 1 1 0]]\n"
     ]
    }
   ],
   "source": [
    "for i, sct in enumerate(sct_list):\n",
    "    print(f\"i: {i}, sct: {sct}\")\n",
    "    for j, salt in enumerate(salt_list):\n",
    "        print(f\"j: {j}, salt: {salt}\")\n",
    "        sct_i_hashed = serialise_and_hash( salt, sct)\n",
    "        index_in_j = get_index_in_bloom_filter( bloom_filter_size, sct_i_hashed)\n",
    "        print(f\"updating element {j}, {index_in_j}\")\n",
    "        bloom_filter_1[j, index_in_j]=1\n",
    "        print(bloom_filter_1)\n",
    "\n",
    "print(bloom_filter_1)"
   ]
  },
  {
   "cell_type": "markdown",
   "metadata": {},
   "source": []
  },
  {
   "cell_type": "code",
   "execution_count": null,
   "metadata": {},
   "outputs": [],
   "source": []
  },
  {
   "cell_type": "code",
   "execution_count": 66,
   "metadata": {},
   "outputs": [
    {
     "name": "stdout",
     "output_type": "stream",
     "text": [
      "scaling_factor = floor(q/p) = 8464.0\n",
      "x = [0 0 0 1 1]\n",
      "scaling_factor = floor(q/p) = 8464.0\n",
      "x = [0 0 1 1 0]\n",
      "A = [[4841891 3228263  506150 ... 3256175 6945986 8214173]\n",
      " [2781196 4843047 4269587 ... 2772909 7355779 1854130]\n",
      " [4749632 2100072 1376121 ... 7158760  983941 8238116]\n",
      " [8082447 6754171 3517554 ... 7810332 8088126 6808916]\n",
      " [5393045 4705118 5145677 ... 6301945 4642985 1536581]]\n",
      "s = [1206508 7997186   25251 ... 6812319 2012405 8136732]\n",
      "b = As + e mod q = [ 908994. 1542760. 5632912. 2269828. 6292218.]\n"
     ]
    }
   ],
   "source": [
    "import nbimporter\n",
    "\n",
    "from lwe_encryption_schemised import sampleLWE, regevDecrpt, regevDecrpt\n",
    "\n",
    "\n",
    "# parameters\n",
    "# parameters\n",
    "n = 2**10\n",
    "m = 5 # sqrt(N), number of samples\n",
    "\n",
    "error_values = {\n",
    "    \"loc\": 0,\n",
    "    \"sigma\": 6.4,\n",
    "}\n",
    "q = 2**23\n",
    "p = 991 # plaintext modulus\n",
    "scaling_factor = np.floor(q/p)\n",
    "# x = np.random.choice([i for i in range(0, p+1)], m)\n",
    "x = np.random.choice([i for i in range(0, 2)], m)\n",
    "\n",
    "# x = np.array([0, 1])\n",
    "\n",
    "print(f\"scaling_factor = floor(q/p) = {np.floor(q/p)}\")\n",
    "print(f\"x = {x}\")\n",
    "n = 2**10\n",
    "m = 5 # sqrt(N), number of samples\n",
    "\n",
    "error_values = {\n",
    "    \"loc\": 0,\n",
    "    \"sigma\": 6.4,\n",
    "}\n",
    "q = 2**23\n",
    "p = 991 # plaintext modulus\n",
    "scaling_factor = np.floor(q/p)\n",
    "# x = np.random.choice([i for i in range(0, p+1)], m)\n",
    "x = np.random.choice([i for i in range(0, 2)], m)\n",
    "\n",
    "# x = np.array([0, 1])\n",
    "\n",
    "print(f\"scaling_factor = floor(q/p) = {np.floor(q/p)}\")\n",
    "print(f\"x = {x}\")\n",
    "\n",
    "secret= np.random.randint(0, q, (n))\n",
    "\n",
    "A, b = sampleLWE(m,n,q,error_values, secret)\n"
   ]
  },
  {
   "cell_type": "code",
   "execution_count": 67,
   "metadata": {},
   "outputs": [
    {
     "name": "stdout",
     "output_type": "stream",
     "text": [
      "[0 1 1 0 0]\n"
     ]
    }
   ],
   "source": [
    "# let the random i <- [A] be 2\n",
    "\n",
    "x = bloom_filter_1[2]\n",
    "print(x)"
   ]
  },
  {
   "cell_type": "code",
   "execution_count": 68,
   "metadata": {},
   "outputs": [
    {
     "name": "stdout",
     "output_type": "stream",
     "text": [
      "[ 908994. 1551224. 5641376. 2269828. 6292218.]\n"
     ]
    }
   ],
   "source": [
    "c = regevEncrypt(b, x, p, q)\n",
    "\n",
    "print(c)"
   ]
  },
  {
   "cell_type": "code",
   "execution_count": 70,
   "metadata": {},
   "outputs": [
    {
     "name": "stdout",
     "output_type": "stream",
     "text": [
      "x = [0 1 1 0 0]\n"
     ]
    },
    {
     "ename": "TypeError",
     "evalue": "regevDecrpt() takes 4 positional arguments but 5 were given",
     "output_type": "error",
     "traceback": [
      "\u001b[0;31m---------------------------------------------------------------------------\u001b[0m",
      "\u001b[0;31mTypeError\u001b[0m                                 Traceback (most recent call last)",
      "Input \u001b[0;32mIn [70]\u001b[0m, in \u001b[0;36m<cell line: 2>\u001b[0;34m()\u001b[0m\n\u001b[1;32m      1\u001b[0m \u001b[38;5;28mprint\u001b[39m(\u001b[38;5;124mf\u001b[39m\u001b[38;5;124m\"\u001b[39m\u001b[38;5;124mx = \u001b[39m\u001b[38;5;132;01m{\u001b[39;00mx\u001b[38;5;132;01m}\u001b[39;00m\u001b[38;5;124m\"\u001b[39m)\n\u001b[0;32m----> 2\u001b[0m d \u001b[38;5;241m=\u001b[39m \u001b[43mregevDecrpt\u001b[49m\u001b[43m(\u001b[49m\u001b[43mA\u001b[49m\u001b[43m,\u001b[49m\u001b[43m \u001b[49m\u001b[43msecret\u001b[49m\u001b[43m,\u001b[49m\u001b[43m \u001b[49m\u001b[43mq\u001b[49m\u001b[43m,\u001b[49m\u001b[43m \u001b[49m\u001b[43mp\u001b[49m\u001b[43m,\u001b[49m\u001b[43m \u001b[49m\u001b[43mc\u001b[49m\u001b[43m)\u001b[49m\n",
      "\u001b[0;31mTypeError\u001b[0m: regevDecrpt() takes 4 positional arguments but 5 were given"
     ]
    }
   ],
   "source": [
    "print(f\"x = {x}\")\n",
    "d = regevDecrpt(A, secret, q, p, c)"
   ]
  }
 ],
 "metadata": {
  "kernelspec": {
   "display_name": "Python 3",
   "language": "python",
   "name": "python3"
  },
  "language_info": {
   "codemirror_mode": {
    "name": "ipython",
    "version": 3
   },
   "file_extension": ".py",
   "mimetype": "text/x-python",
   "name": "python",
   "nbconvert_exporter": "python",
   "pygments_lexer": "ipython3",
   "version": "3.10.12"
  }
 },
 "nbformat": 4,
 "nbformat_minor": 2
}
