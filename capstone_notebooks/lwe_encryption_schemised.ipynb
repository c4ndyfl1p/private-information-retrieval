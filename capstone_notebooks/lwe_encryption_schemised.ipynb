{
 "cells": [
  {
   "cell_type": "markdown",
   "metadata": {},
   "source": [
    "# Learning with Errors and Regev Encryption (schemised ) :\n",
    "\n",
    "Using parameters from the paper: **One server for the price of Two: Simple and Fast Single-Server Private Information Retreival**\n",
    "\n",
    "Here the number of LWE samples(m) = m"
   ]
  },
  {
   "cell_type": "code",
   "execution_count": 206,
   "metadata": {},
   "outputs": [
    {
     "name": "stdout",
     "output_type": "stream",
     "text": [
      "scaling_factor = floor(q/p) = 8464.0\n",
      "x = [0 1 1 1 1]\n"
     ]
    }
   ],
   "source": [
    "import numpy as np\n",
    "\n",
    "\n",
    "# parameters\n",
    "n = 2**10\n",
    "m = 5 # sqrt(N), number of samples\n",
    "\n",
    "error_values = {\n",
    "    \"loc\": 0,\n",
    "    \"sigma\": 6.4,\n",
    "}\n",
    "q = 2**23\n",
    "p = 991 # plaintext modulus\n",
    "scaling_factor = np.floor(q/p)\n",
    "# x = np.random.choice([i for i in range(0, p+1)], m)\n",
    "x = np.random.choice([i for i in range(0, 2)], m)\n",
    "\n",
    "# x = np.array([0, 1])\n",
    "\n",
    "print(f\"scaling_factor = floor(q/p) = {np.floor(q/p)}\")\n",
    "print(f\"x = {x}\")\n"
   ]
  },
  {
   "cell_type": "code",
   "execution_count": 207,
   "metadata": {},
   "outputs": [],
   "source": [
    "#using matrices (when you have m samples)\n",
    "\n",
    "\n",
    "def sampleLWE(m,n,q,error_values, s):\n",
    "    A= np.random.randint(0, q, (m,n))\n",
    "    \n",
    "    e= np.random.normal(error_values[\"loc\"], error_values[\"sigma\"], (m) )\n",
    "\n",
    "    print(f\"A = {A}\")\n",
    "    print(f\"s = {s}\")\n",
    "    # print(f\"e = {e}\")\n",
    "\n",
    "\n",
    "    # Computing the dot product and adding the error\n",
    "\n",
    "    # Outputting the vectors a, s and the value b\n",
    "\n",
    "    b = (np.dot(A,s)  + e ) % q\n",
    "    print(f\"b = As + e mod q = {b}\")\n",
    "    # b_prime = (np.dot(A,s) % q + e) % q\n",
    "\n",
    "\n",
    "    return A, b\n",
    "\n",
    "\n"
   ]
  },
  {
   "cell_type": "code",
   "execution_count": 208,
   "metadata": {},
   "outputs": [],
   "source": [
    "# print(f\"A = \", A)\n",
    "# print(type(A), A.shape)\n",
    "# print(f\"s = \", s)\n",
    "# print(type(s), s.shape)\n",
    "# print(f\"e = \", e)\n",
    "# print(type(e), e.shape)"
   ]
  },
  {
   "cell_type": "code",
   "execution_count": 209,
   "metadata": {},
   "outputs": [
    {
     "name": "stdout",
     "output_type": "stream",
     "text": [
      "A = [[7740959 7510635 4821461 ...  804511 1743265 4614555]\n",
      " [8035919 6835257 8163988 ... 3747462 4251725 7104997]\n",
      " [ 318183 8136235 8029781 ... 6789019 1423095 4905566]\n",
      " [6059292 1255307 7643236 ... 2969990  186613 7274419]\n",
      " [6532922 5027432 7200979 ... 3986819 6332233  894938]]\n",
      "s = [6431333 7484368 5713869 ... 1662153 2739012 8343249]\n",
      "b = As + e mod q = [ 765864. 3028438. 2525834. 8222930. 1724640.]\n"
     ]
    }
   ],
   "source": [
    "secret= np.random.randint(0, q, (n))\n",
    "\n",
    "A, b = sampleLWE(m,n,q,error_values, secret)"
   ]
  },
  {
   "cell_type": "code",
   "execution_count": 210,
   "metadata": {},
   "outputs": [],
   "source": [
    "# print(f\"as mod q = {np.dot(A, s)% q}\")\n",
    "\n",
    "# print(f\"(b = As mod q + e ) mod q = \", b)\n",
    "\n",
    "# print(f\" b_prime = As + e mod q    = {b_prime}\")"
   ]
  },
  {
   "cell_type": "code",
   "execution_count": 211,
   "metadata": {},
   "outputs": [],
   "source": [
    "# Encryption\n",
    "\n",
    "def regevEncrypt(b, x, p, q):\n",
    "    scaling_factor = np.floor(q/p)\n",
    "    c =( b + scaling_factor*x ) \n",
    "    c_mod_q = c % q\n",
    "\n",
    "    \n",
    "\n",
    "    # print(f\"c= As + e + (floor(q/p) * x) \\n \\\\ \\\n",
    "    # = As + e + {scaling_factor}*{x} = {c} = {c_mod_q}\")\n",
    "\n",
    "    return c_mod_q"
   ]
  },
  {
   "cell_type": "code",
   "execution_count": 212,
   "metadata": {},
   "outputs": [
    {
     "name": "stdout",
     "output_type": "stream",
     "text": [
      "[ 765864. 3036902. 2534298. 8231394. 1733104.]\n"
     ]
    }
   ],
   "source": [
    "c = regevEncrypt(b, x, p, q)\n",
    "\n",
    "print(c)"
   ]
  },
  {
   "cell_type": "code",
   "execution_count": 213,
   "metadata": {},
   "outputs": [],
   "source": [
    "#Decryption\n",
    "\n",
    "# print(np.dot(a, s), np.dot(a,s) % q)\n",
    "\n",
    "def rounding(x, round_off_to):\n",
    "    \"\"\"\n",
    "    Rounds off a number x to the nearest multiple of round_off_to.\n",
    "\n",
    "    :param x: The number to be rounded off.\n",
    "    :param round_off_to: The nearest multiple to which x needs to be rounded off.\n",
    "    :return: The rounded off value.\n",
    "    \"\"\"\n",
    "    return np.round(x / round_off_to) * round_off_to\n",
    "\n",
    "def regevDecrpt(A, s, q, p, c):\n",
    "    scaling_factor = np.floor(q/p)\n",
    "    # a_s_mod_q = np.dot(A,s)%q \n",
    "    # print(f\"a_s_modq = as mod q = \", a_s_mod_q)\n",
    "\n",
    "    d_hat = (c - np.dot(A, s)) % q \n",
    "\n",
    "    print(f\"d_hat = c - as mod q= {c} - {np.dot(A,s)} mod q = \", d_hat)\n",
    "    rounded_d = rounding(d_hat, scaling_factor)\n",
    "\n",
    "\n",
    "\n",
    "    print(f\"rounded d = {rounded_d}\")\n",
    "    \n",
    "    d = rounded_d / scaling_factor\n",
    "    # print(f\"d = rounded_d/ floor(q/p)= {rounded_d}/ {scaling_factor} = {d}\" )\n",
    "    # for i in range(d.shape[0]):\n",
    "    #     if d[i] == 991:\n",
    "    #         d[i]=0\n",
    "    return d \n",
    "\n",
    "\n",
    "\n",
    "\n"
   ]
  },
  {
   "cell_type": "code",
   "execution_count": 214,
   "metadata": {},
   "outputs": [
    {
     "name": "stdout",
     "output_type": "stream",
     "text": [
      "x = [0 1 1 1 1]\n",
      "d_hat = c - as mod q= [ 765864. 3036902. 2534298. 8231394. 1733104.] - [17384834998185899 17678359944115671 17906791990332044 17354156431734996\n",
      " 17486127734345964] mod q =  [8388604.    8462.    8462.    8462.    8452.]\n",
      "rounded d = [8387824.    8464.    8464.    8464.    8464.]\n",
      "[0. 1. 1. 1. 1.]\n"
     ]
    }
   ],
   "source": [
    "print(f\"x = {x}\")\n",
    "d = regevDecrpt(A, secret, q, p, c)\n",
    "print(d)"
   ]
  },
  {
   "cell_type": "code",
   "execution_count": 215,
   "metadata": {},
   "outputs": [
    {
     "name": "stdout",
     "output_type": "stream",
     "text": [
      "[0. 1. 1. 1. 1.]\n",
      "<class 'numpy.ndarray'>\n",
      "1.0\n",
      "[0. 1. 1. 1. 1.]\n"
     ]
    }
   ],
   "source": [
    "print(d)\n",
    "print(type(d))\n",
    "print(d[2])\n",
    "\n",
    "d[2]== 991\n",
    "\n",
    "d.shape[0]\n",
    "\n",
    "for i in range(d.shape[0]):\n",
    "    if d[i] == 991:\n",
    "        d[i]=0\n",
    "    \n",
    "print(d)"
   ]
  }
 ],
 "metadata": {
  "kernelspec": {
   "display_name": "Python 3",
   "language": "python",
   "name": "python3"
  },
  "language_info": {
   "codemirror_mode": {
    "name": "ipython",
    "version": 3
   },
   "file_extension": ".py",
   "mimetype": "text/x-python",
   "name": "python",
   "nbconvert_exporter": "python",
   "pygments_lexer": "ipython3",
   "version": "3.10.12"
  }
 },
 "nbformat": 4,
 "nbformat_minor": 2
}
