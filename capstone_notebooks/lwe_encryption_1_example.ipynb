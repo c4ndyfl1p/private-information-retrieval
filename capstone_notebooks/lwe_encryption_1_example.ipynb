{
 "cells": [
  {
   "cell_type": "markdown",
   "metadata": {},
   "source": [
    "# Learning with Errors and Regev Encryption Example:\n",
    "\n",
    "Using parameters from the paper: **One server for the price of Two: Simple and Fast Single-Server Private Information Retreival**\n",
    "\n",
    "Here the number of LWE samples(m) = 1"
   ]
  },
  {
   "cell_type": "code",
   "execution_count": 1,
   "metadata": {},
   "outputs": [
    {
     "name": "stdout",
     "output_type": "stream",
     "text": [
      "floor(q/p) = 8464.0\n",
      "x = 386\n"
     ]
    }
   ],
   "source": [
    "import numpy as np\n",
    "\n",
    "# parameters\n",
    "n = 2**10\n",
    "m = 1 # sqrt(N), number of samples\n",
    "\n",
    "error_values = [0, 6.4 ]\n",
    "q = 2**23\n",
    "p = 991 # plaintext modulus\n",
    "\n",
    "x = np.random.choice([i for i in range(0, p+1)])\n",
    "\n",
    "print(f\"floor(q/p) = {np.floor(q/p)}\")\n",
    "print(f\"x = {x}\")\n"
   ]
  },
  {
   "cell_type": "code",
   "execution_count": 475,
   "metadata": {},
   "outputs": [],
   "source": [
    "\n",
    "\n",
    "# Sample LWE \n",
    "# Generating vectors s and a\n",
    "s = np.random.randint(0, q, n)\n",
    "a = np.random.randint(0, q, n)\n",
    "\n",
    "# Generating random error e\n",
    "e = np.random.normal(error_values[0],error_values[1], m)\n",
    "\n",
    "\n"
   ]
  },
  {
   "cell_type": "code",
   "execution_count": 476,
   "metadata": {},
   "outputs": [
    {
     "name": "stdout",
     "output_type": "stream",
     "text": [
      "A =  [7650810 7883180  475223 ... 6755943 4483348 4774729]\n",
      "s =  [4073453 1549951 5797621 ... 7117760 6949670 1717608]\n",
      "e =  [-8.83387351]\n"
     ]
    }
   ],
   "source": [
    "print(f\"A = \", a)\n",
    "print(f\"s = \", s)\n",
    "print(f\"e = \", e)"
   ]
  },
  {
   "cell_type": "code",
   "execution_count": 477,
   "metadata": {},
   "outputs": [],
   "source": [
    "# Computing the dot product and adding the error\n",
    "b = ((np.dot(a, s) % q) + e ) % q\n",
    "b_prime = (( np.dot(a,s)+ e ) % q)\n",
    "# Outputting the vectors a, s and the value b\n",
    "\n"
   ]
  },
  {
   "cell_type": "code",
   "execution_count": 478,
   "metadata": {},
   "outputs": [
    {
     "name": "stdout",
     "output_type": "stream",
     "text": [
      "as mod q = [5125466.16612649]\n",
      "(b = As mod q + e ) mod q =  [5125466.16612649]\n",
      " b_prime = As + e mod q    = [5125468.]\n"
     ]
    }
   ],
   "source": [
    "print(f\"as mod q = {np.dot(a, s)% q + e}\")\n",
    "\n",
    "print(f\"(b = As mod q + e ) mod q = \", b)\n",
    "\n",
    "print(f\" b_prime = As + e mod q    = {b_prime}\")"
   ]
  },
  {
   "cell_type": "code",
   "execution_count": 479,
   "metadata": {},
   "outputs": [
    {
     "name": "stdout",
     "output_type": "stream",
     "text": [
      "q/p= 8388608/991 = 8464.0\n",
      "c= As + e + (floor(q/p) * x) \n",
      " \\ = 5125475 + [-8.83387351] + 8464.0*783 = [11752780.] = [3364172.]\n"
     ]
    }
   ],
   "source": [
    "# Encryption\n",
    "\n",
    "b = b_prime\n",
    "\n",
    "c =( b + (np.floor(q/p)*x ) ) \n",
    "c_mod_q = c % q\n",
    "\n",
    "print(f\"q/p= {q}/{p} = {np.floor(q/p)}\")\n",
    "\n",
    "print(f\"c= As + e + (floor(q/p) * x) \\n \\\\ \\\n",
    "= {np.dot(a,s) % q} + {e} + {np.floor(q/p)}*{x} = {c} = {c_mod_q}\")"
   ]
  },
  {
   "cell_type": "code",
   "execution_count": 480,
   "metadata": {},
   "outputs": [
    {
     "name": "stdout",
     "output_type": "stream",
     "text": [
      "a_s_modq = as mod q =  5125475\n",
      "d_hat = c - as = [11752780.] - 5125475 =  [6627305.]\n"
     ]
    }
   ],
   "source": [
    "#Decryption\n",
    "\n",
    "# print(np.dot(a, s), np.dot(a,s) % q)\n",
    "\n",
    "a_s_mod_q = np.dot(a,s)%q \n",
    "print(f\"a_s_modq = as mod q = \", a_s_mod_q)\n",
    "\n",
    "d_hat = (c - np.dot(a, s)% q ) \n",
    "\n",
    "print(f\"d_hat = c - as = {c} - {a_s_mod_q} = \", d_hat)\n",
    "\n",
    "\n",
    "\n",
    "\n"
   ]
  },
  {
   "cell_type": "code",
   "execution_count": 481,
   "metadata": {},
   "outputs": [
    {
     "name": "stdout",
     "output_type": "stream",
     "text": [
      "rounded d = [6627312.]\n"
     ]
    }
   ],
   "source": [
    "def rounding(x, round_off_to):\n",
    "    \"\"\"\n",
    "    Rounds off a number x to the nearest multiple of round_off_to.\n",
    "\n",
    "    :param x: The number to be rounded off.\n",
    "    :param round_off_to: The nearest multiple to which x needs to be rounded off.\n",
    "    :return: The rounded off value.\n",
    "    \"\"\"\n",
    "    return np.round(x / round_off_to) * round_off_to\n",
    "\n",
    "rounded_d = rounding(d_hat, np.floor(q/p))\n",
    "\n",
    "\n",
    "\n",
    "print(f\"rounded d = {rounded_d}\")"
   ]
  },
  {
   "cell_type": "code",
   "execution_count": 482,
   "metadata": {},
   "outputs": [
    {
     "name": "stdout",
     "output_type": "stream",
     "text": [
      "x = 783\n",
      "d = rounded_d/ floor(q/p)= [6627312.]/ 8464.0 = 783\n"
     ]
    }
   ],
   "source": [
    "# rounding to the nearest multiple of q/2\n",
    "#manualy rounding off 33283 to 33280\n",
    "\n",
    "\n",
    "# print(f\" c - as rounded = \", dec)\n",
    "# print(f\"floor q/2= \", np.floor(q/2))\n",
    "print(f\"x = {x}\")\n",
    "d = rounded_d / np.floor(q/p)\n",
    "print(f\"d = rounded_d/ floor(q/p)= {rounded_d}/ {np.floor(q/p)} = {int(d)}\" )\n",
    "# print(f\"rounded dec\" , dec)\n",
    "# dec = (c - np.dot(a, s) ) % q "
   ]
  }
 ],
 "metadata": {
  "kernelspec": {
   "display_name": "Python 3",
   "language": "python",
   "name": "python3"
  },
  "language_info": {
   "codemirror_mode": {
    "name": "ipython",
    "version": 3
   },
   "file_extension": ".py",
   "mimetype": "text/x-python",
   "name": "python",
   "nbconvert_exporter": "python",
   "pygments_lexer": "ipython3",
   "version": "3.10.12"
  }
 },
 "nbformat": 4,
 "nbformat_minor": 2
}
