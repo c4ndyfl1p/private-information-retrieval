{
 "cells": [
  {
   "cell_type": "markdown",
   "metadata": {},
   "source": [
    "# Learning with Errors and Regev Encryption(m bits) Example:\n",
    "\n",
    "Using parameters from the paper: **One server for the price of Two: Simple and Fast Single-Server Private Information Retreival**\n",
    "\n",
    "Here the number of LWE samples(m) = m"
   ]
  },
  {
   "cell_type": "code",
   "execution_count": 38,
   "metadata": {},
   "outputs": [
    {
     "name": "stdout",
     "output_type": "stream",
     "text": [
      "scaling_factor = floor(q/p) = 8464.0\n",
      "x = [ 63 147]\n"
     ]
    }
   ],
   "source": [
    "import numpy as np\n",
    "\n",
    "\n",
    "# parameters\n",
    "n = 2**10\n",
    "m = 2 # sqrt(N), number of samples\n",
    "\n",
    "error_values = {\n",
    "    \"loc\": 0,\n",
    "    \"sigma\": 6.4,\n",
    "}\n",
    "q = 2**23\n",
    "p = 991 # plaintext modulus\n",
    "scaling_factor = np.floor(q/p)\n",
    "x = np.random.choice([i for i in range(0, p+1)], m)\n",
    "\n",
    "print(f\"scaling_factor = floor(q/p) = {np.floor(q/p)}\")\n",
    "print(f\"x = {x}\")\n"
   ]
  },
  {
   "cell_type": "code",
   "execution_count": 39,
   "metadata": {},
   "outputs": [
    {
     "name": "stdout",
     "output_type": "stream",
     "text": [
      "A = [[3569817 3643550 4757572 ... 2952728  540034 7586571]\n",
      " [3839017 6372961 3189026 ... 7358961 6815881 5944601]]\n",
      "s = [6181017 2032082 4699636 ... 5701743 1101904 3263150]\n",
      "e = [ -5.64190836 -11.61768196]\n"
     ]
    }
   ],
   "source": [
    "#using matrices (when you have m samples)\n",
    "\n",
    "A= np.random.randint(0, q, (m,n))\n",
    "s= np.random.randint(0, q, (n))\n",
    "e= np.random.normal(error_values[\"loc\"], error_values[\"sigma\"], (m) )\n",
    "\n",
    "print(f\"A = {A}\")\n",
    "print(f\"s = {s}\")\n",
    "print(f\"e = {e}\")\n"
   ]
  },
  {
   "cell_type": "code",
   "execution_count": 40,
   "metadata": {},
   "outputs": [
    {
     "name": "stdout",
     "output_type": "stream",
     "text": [
      "A =  [[3569817 3643550 4757572 ... 2952728  540034 7586571]\n",
      " [3839017 6372961 3189026 ... 7358961 6815881 5944601]]\n",
      "<class 'numpy.ndarray'> (2, 1024)\n",
      "s =  [6181017 2032082 4699636 ... 5701743 1101904 3263150]\n",
      "<class 'numpy.ndarray'> (1024,)\n",
      "e =  [ -5.64190836 -11.61768196]\n",
      "<class 'numpy.ndarray'> (2,)\n"
     ]
    }
   ],
   "source": [
    "print(f\"A = \", A)\n",
    "print(type(A), A.shape)\n",
    "print(f\"s = \", s)\n",
    "print(type(s), s.shape)\n",
    "print(f\"e = \", e)\n",
    "print(type(e), e.shape)"
   ]
  },
  {
   "cell_type": "code",
   "execution_count": 41,
   "metadata": {},
   "outputs": [],
   "source": [
    "# Computing the dot product and adding the error\n",
    "\n",
    "# Outputting the vectors a, s and the value b\n",
    "\n",
    "b = (np.dot(A,s)  + e ) % q\n",
    "# print(f\"b = As + e mod q = {b}\")\n",
    "b_prime = (np.dot(A,s) % q + e) % q\n"
   ]
  },
  {
   "cell_type": "code",
   "execution_count": 42,
   "metadata": {},
   "outputs": [
    {
     "name": "stdout",
     "output_type": "stream",
     "text": [
      "as mod q = [4264606 8086610]\n",
      "(b = As mod q + e ) mod q =  [4264604. 8086596.]\n",
      " b_prime = As + e mod q    = [4264600.35809164 8086598.38231804]\n"
     ]
    }
   ],
   "source": [
    "print(f\"as mod q = {np.dot(A, s)% q}\")\n",
    "\n",
    "print(f\"(b = As mod q + e ) mod q = \", b)\n",
    "\n",
    "print(f\" b_prime = As + e mod q    = {b_prime}\")"
   ]
  },
  {
   "cell_type": "code",
   "execution_count": 43,
   "metadata": {},
   "outputs": [
    {
     "name": "stdout",
     "output_type": "stream",
     "text": [
      "q/p= 8388608/991 = 8464.0\n",
      "c= As + e + (floor(q/p) * x) \n",
      " \\ = [4264606 8086610] + [ -5.64190836 -11.61768196] + 8464.0*[ 63 147] = [4797836. 9330804.] = [4797836.  942196.]\n"
     ]
    }
   ],
   "source": [
    "# Encryption\n",
    "\n",
    "c =( b + scaling_factor*x ) \n",
    "c_mod_q = c % q\n",
    "\n",
    "print(f\"q/p= {q}/{p} = {scaling_factor}\")\n",
    "\n",
    "print(f\"c= As + e + (floor(q/p) * x) \\n \\\\ \\\n",
    "= {np.dot(A,s) % q} + {e} + {scaling_factor}*{x} = {c} = {c_mod_q}\")"
   ]
  },
  {
   "cell_type": "code",
   "execution_count": 44,
   "metadata": {},
   "outputs": [
    {
     "name": "stdout",
     "output_type": "stream",
     "text": [
      "a_s_modq = as mod q =  [4264606 8086610]\n",
      "d_hat = c - as = [4797836. 9330804.] - [4264606 8086610] =  [ 533230. 1244194.]\n"
     ]
    }
   ],
   "source": [
    "#Decryption\n",
    "\n",
    "# print(np.dot(a, s), np.dot(a,s) % q)\n",
    "\n",
    "a_s_mod_q = np.dot(A,s)%q \n",
    "print(f\"a_s_modq = as mod q = \", a_s_mod_q)\n",
    "\n",
    "d_hat = (c - np.dot(A, s)% q ) \n",
    "\n",
    "print(f\"d_hat = c - as = {c} - {a_s_mod_q} = \", d_hat)\n",
    "\n",
    "\n",
    "\n",
    "\n"
   ]
  },
  {
   "cell_type": "code",
   "execution_count": 45,
   "metadata": {},
   "outputs": [
    {
     "data": {
      "text/plain": [
       "array([0., 0.])"
      ]
     },
     "execution_count": 45,
     "metadata": {},
     "output_type": "execute_result"
    }
   ],
   "source": [
    "np.round(x/scaling_factor)"
   ]
  },
  {
   "cell_type": "code",
   "execution_count": 46,
   "metadata": {},
   "outputs": [
    {
     "name": "stdout",
     "output_type": "stream",
     "text": [
      "rounded d = [ 533232. 1244208.]\n"
     ]
    }
   ],
   "source": [
    "def rounding(x, round_off_to):\n",
    "    \"\"\"\n",
    "    Rounds off a number x to the nearest multiple of round_off_to.\n",
    "\n",
    "    :param x: The number to be rounded off.\n",
    "    :param round_off_to: The nearest multiple to which x needs to be rounded off.\n",
    "    :return: The rounded off value.\n",
    "    \"\"\"\n",
    "    return np.round(x / round_off_to) * round_off_to\n",
    "\n",
    "rounded_d = rounding(d_hat, scaling_factor)\n",
    "\n",
    "\n",
    "\n",
    "print(f\"rounded d = {rounded_d}\")"
   ]
  },
  {
   "cell_type": "code",
   "execution_count": 47,
   "metadata": {},
   "outputs": [
    {
     "name": "stdout",
     "output_type": "stream",
     "text": [
      "x = [ 63 147]\n",
      "d = rounded_d/ floor(q/p)= [ 533232. 1244208.]/ 8464.0 = [ 63. 147.]\n"
     ]
    }
   ],
   "source": [
    "# rounding to the nearest multiple of q/2\n",
    "#manualy rounding off 33283 to 33280\n",
    "\n",
    "\n",
    "# print(f\" c - as rounded = \", dec)\n",
    "# print(f\"floor q/2= \", np.floor(q/2))\n",
    "print(f\"x = {x}\")\n",
    "d = rounded_d / scaling_factor\n",
    "print(f\"d = rounded_d/ floor(q/p)= {rounded_d}/ {scaling_factor} = {d}\" )\n",
    "# print(f\"rounded dec\" , dec)\n",
    "# dec = (c - np.dot(a, s) ) % q "
   ]
  }
 ],
 "metadata": {
  "kernelspec": {
   "display_name": "Python 3",
   "language": "python",
   "name": "python3"
  },
  "language_info": {
   "codemirror_mode": {
    "name": "ipython",
    "version": 3
   },
   "file_extension": ".py",
   "mimetype": "text/x-python",
   "name": "python",
   "nbconvert_exporter": "python",
   "pygments_lexer": "ipython3",
   "version": "3.10.12"
  }
 },
 "nbformat": 4,
 "nbformat_minor": 2
}
