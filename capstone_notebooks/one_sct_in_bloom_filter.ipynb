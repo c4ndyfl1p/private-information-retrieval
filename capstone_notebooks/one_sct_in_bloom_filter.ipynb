{
 "cells": [
  {
   "cell_type": "markdown",
   "metadata": {},
   "source": [
    "# populate the bloom filter  \n",
    "  \n",
    "Read one SCT from file\n",
    "serialise it\n",
    "hash it\n",
    "put it in bloom filer"
   ]
  },
  {
   "cell_type": "code",
   "execution_count": 15,
   "metadata": {},
   "outputs": [
    {
     "name": "stdout",
     "output_type": "stream",
     "text": [
      "3\n",
      "<class 'dict'>\n",
      "{'sct_version': 1, 'log_id': 'VWhJdXZrS0pIUFFrUk5ER2JDaWU=', 'timestamp': 1652934758000, 'extensions': '', 'signature': 'MEUCIQDqZIjuNXmV+Rm9dl7h4/u+vZG3+Yj5CISgAzimuths/aiEQIgNupUwGiW8QHfy7WqIuYGCuR+cPkryBJcRqRHTLFa4='}\n"
     ]
    }
   ],
   "source": [
    "# read SCTs\n",
    "\n",
    "\n",
    "import json\n",
    "\n",
    "# read SCTS from a JSON encoded file\n",
    "# Path to the JSON file\n",
    "file_path = 'Example_SCTs.json'\n",
    "\n",
    "# Read the JSON data from the file\n",
    "with open(file_path, 'r') as file:\n",
    "    sct_list = json.load(file)\n",
    "\n",
    "# Output the loaded data to verify\n",
    "print(len(sct_list))\n",
    "print(type(sct_list[0]))\n",
    "print(sct_list[0])\n",
    "\n"
   ]
  },
  {
   "cell_type": "markdown",
   "metadata": {},
   "source": []
  },
  {
   "cell_type": "code",
   "execution_count": 16,
   "metadata": {},
   "outputs": [],
   "source": [
    "# testing out functionality\n",
    "\n",
    "# import json\n",
    "# import hashlib\n",
    "\n",
    "\n",
    "# # Serialize the SCT1 data into a JSON string\n",
    "# sct1_serialized = json.dumps(sct_list[0])\n",
    "\n",
    "# # Define a salt (this should be kept secure and used consistently if needed for verification later)\n",
    "# salt = b'my_secure_salt'\n",
    "\n",
    "# # Create a SHA256 hash object and update it with the salt and the serialized data\n",
    "# hash_obj = hashlib.sha256()\n",
    "# hash_obj.update(salt)  # Update with the salt\n",
    "# hash_obj.update(sct1_serialized.encode())  # Update with the serialized SCT1 data\n",
    "\n",
    "# # Get the hexadecimal representation of the hash\n",
    "# sct1_hashed = hash_obj.hexdigest()\n",
    "\n",
    "# # Output the hashed SCT1\n",
    "# print(sct1_hashed)\n"
   ]
  },
  {
   "cell_type": "code",
   "execution_count": 17,
   "metadata": {},
   "outputs": [
    {
     "name": "stdout",
     "output_type": "stream",
     "text": [
      "efd1b0ab32452c7e0afe1e42df065cc597ccb11a646e24ee767d97ffd13e1359\n",
      "<class 'str'>\n"
     ]
    }
   ],
   "source": [
    "#functionised\n",
    "\n",
    "import json\n",
    "import hashlib\n",
    "\n",
    "def serialise_and_hash(salt, sct):\n",
    "    \"\"\"salt : <class 'bytes'>\n",
    "        sct : <class 'dict'>\n",
    "\n",
    "        return: <class 'str'>\n",
    "    \"\"\"\n",
    "    # Serialize the SCT1 data into a JSON string\n",
    "    sct_serialized = json.dumps(sct)\n",
    "\n",
    "    # Define a salt (this should be kept secure and used consistently if needed for verification later)\n",
    "    # salt = b'my_secure_salt'\n",
    "\n",
    "    # Create a SHA256 hash object and update it with the salt and the serialized data\n",
    "    hash_obj = hashlib.sha256()\n",
    "    hash_obj.update(salt)  # Update with the salt\n",
    "    hash_obj.update(sct_serialized.encode())  # Update with the serialized SCT1 data\n",
    "\n",
    "    # Get the hexadecimal representation of the hash\n",
    "    sct_hashed = hash_obj.hexdigest()\n",
    "\n",
    "    # Output the hashed SCT1\n",
    "    return sct_hashed\n",
    "\n",
    "\n",
    "# Define a salt (this should be kept secure and used consistently if needed for verification later)\n",
    "salt = b'my_secure_salt'\n",
    "sct1_hashed = serialise_and_hash( salt, sct_list[0])\n",
    "print(sct1_hashed)\n",
    "print(type(sct1_hashed))"
   ]
  },
  {
   "cell_type": "code",
   "execution_count": 18,
   "metadata": {},
   "outputs": [
    {
     "data": {
      "text/plain": [
       "[0, 0, 1, 0, 0]"
      ]
     },
     "execution_count": 18,
     "metadata": {},
     "output_type": "execute_result"
    }
   ],
   "source": [
    "import hashlib\n",
    "\n",
    "# Define the Bloom filter size\n",
    "bloom_filter_size = 5  # Smaller size for demonstration\n",
    "bloom_filter = [0] * bloom_filter_size  # Initialize the Bloom filter with zeros\n",
    "\n",
    "# Example SHA-256 hash (as if computed from serialized SCT1 with a salt)\n",
    "# sct1_hashed = 'a3b291cf2bf8eb0e45084af1b2a66554f3a44ed7bfa9b7166eaf0174a5d6d7c7'\n",
    "\n",
    "# Convert the hash to an index for the Bloom filter\n",
    "# Typically, the hash is converted to an integer and taken modulo the size of the Bloom filter\n",
    "hash_as_integer = int(sct1_hashed, 16)  # Convert hex hash to an integer\n",
    "index = hash_as_integer % bloom_filter_size  # Compute index for the Bloom filter\n",
    "\n",
    "# Update the Bloom filter\n",
    "bloom_filter[index] = 1  # Set the bit at the index to 1\n",
    "\n",
    "# Output the entire Bloom filter to confirm the update\n",
    "bloom_filter\n"
   ]
  },
  {
   "cell_type": "code",
   "execution_count": 19,
   "metadata": {},
   "outputs": [],
   "source": [
    "# Define the Bloom filter size\n",
    "bloom_filter_size = 5  # Smaller size for demonstration\n",
    "bloom_filter = [0] * bloom_filter_size  # Initialize the Bloom filter with zeros\n",
    "no_of_hash_functions = 5"
   ]
  },
  {
   "cell_type": "code",
   "execution_count": 20,
   "metadata": {},
   "outputs": [
    {
     "name": "stdout",
     "output_type": "stream",
     "text": [
      "[[0 0 0 0 0]\n",
      " [0 0 0 0 0]\n",
      " [0 0 0 0 0]\n",
      " [0 0 0 0 0]\n",
      " [0 0 0 0 0]]\n"
     ]
    }
   ],
   "source": [
    "import numpy as np\n",
    "\n",
    "array1 = np.array(  [[0] * bloom_filter_size] * no_of_hash_functions  )\n",
    "\n",
    "print(array1)"
   ]
  },
  {
   "cell_type": "code",
   "execution_count": 21,
   "metadata": {},
   "outputs": [
    {
     "name": "stdout",
     "output_type": "stream",
     "text": [
      "efd1b0ab32452c7e0afe1e42df065cc597ccb11a646e24ee767d97ffd13e1359\n",
      "0\n"
     ]
    }
   ],
   "source": [
    "print(sct1_hashed)\n",
    "\n",
    "print(array1[0,1])"
   ]
  },
  {
   "cell_type": "code",
   "execution_count": 22,
   "metadata": {},
   "outputs": [
    {
     "name": "stdout",
     "output_type": "stream",
     "text": [
      "index is 2\n",
      "[[0 0 1 0 0]\n",
      " [0 0 0 0 0]\n",
      " [0 0 0 0 0]\n",
      " [0 0 0 0 0]\n",
      " [0 0 0 0 0]]\n"
     ]
    }
   ],
   "source": [
    "\n",
    "def get_index_in_bloom_filter( bloom_filter_size, hashed_sct):\n",
    "    # Convert the hash to an index for the Bloom filter\n",
    "\n",
    "    hash_as_integer = int(hashed_sct, 16)  # Convert hex hash to an integer\n",
    "    index = hash_as_integer % bloom_filter_size  # Compute index for the Bloom filter\n",
    "\n",
    "    print(f\"index is {index}\")\n",
    "   \n",
    "\n",
    "    # Output the index\n",
    "    return index\n",
    "\n",
    "\n",
    "index = get_index_in_bloom_filter( bloom_filter_size, sct1_hashed)\n",
    "# Update the Bloom filter\n",
    "array1[0, index] = 1  # Set the bit at the index to 1\n",
    "\n",
    "\n",
    "\n",
    "print(array1)"
   ]
  },
  {
   "cell_type": "code",
   "execution_count": 23,
   "metadata": {},
   "outputs": [
    {
     "name": "stdout",
     "output_type": "stream",
     "text": [
      "b'\\x8a\\xc0F>vs\\xa53\\xed\\x8e\\xf5\\x94=\\xcb\\xa3\\xed'\n"
     ]
    }
   ],
   "source": [
    "import os\n",
    "\n",
    "# Generate a random 16-byte salt\n",
    "random_salt = os.urandom(16)\n",
    "\n",
    "# Print the generated random salt\n",
    "print(random_salt)"
   ]
  },
  {
   "cell_type": "code",
   "execution_count": 24,
   "metadata": {},
   "outputs": [
    {
     "name": "stdout",
     "output_type": "stream",
     "text": [
      "[[0 0 0 0 0]\n",
      " [0 0 0 0 0]\n",
      " [0 0 0 0 0]\n",
      " [0 0 0 0 0]\n",
      " [0 0 0 0 0]]\n"
     ]
    }
   ],
   "source": [
    "salt0 = b'\\x02\\xa4Yq\\xf2u\\x87\\x90\\xa2\\r\\xeb\\xc8\\x1d\\xb4j\\x9f'\n",
    "salt1 = b'zN\\xd9)\\x12\\xe7\\xd61V\\x1b\\xe55\\xa7\\xd0\\xf2N'\n",
    "salt2 = b'\\x86\\x19\\x923<\\x1egQ\\xba\\x94\\x17^\\xaa\\xbe\\x1b\\x0f'\n",
    "salt3 = b'i\\x08\\x0f4$3\\xe6\\xfa\\x1e\\xc7\\xd2\\xab\\x05\"Lg'\n",
    "salt4 = b'{?(\\xbb@*\\xb3\\xec\\x8f\\xc5\\xea\\xf4X4\\xe2C'\n",
    "\n",
    "salt_list= [salt0, salt1, salt2, salt3, salt4]\n",
    "salt_list= [b'salt0', b'salt1', b'salt2', b'salt3', b'salt4']\n",
    "\n",
    "bloom_filter_size = 5  # Smaller size for demonstration\n",
    "bloom_filter_1 = np.array(  [[0] * bloom_filter_size] * no_of_hash_functions  ) # Initialize the Bloom filter with zeros\n",
    "no_of_hash_functions = bloom_filter_size\n",
    "print(bloom_filter_1)\n",
    "\n",
    "# for SCT 0\n",
    "# for i, sct in enumerate(sct_list):\n",
    "#     sct0_hashed = serialise_and_hash( salt0, sct_list[0])\n",
    "#     index = get_index_in_bloom_filter( bloom_filter_size, sct0_hashed)\n",
    "#     bloom_filter_1[i, index]=1\n",
    "\n",
    "# print(bloom_filter_1)\n",
    "\n",
    "\n",
    "\n"
   ]
  },
  {
   "cell_type": "code",
   "execution_count": 25,
   "metadata": {},
   "outputs": [
    {
     "name": "stdout",
     "output_type": "stream",
     "text": [
      "i: 0, sct: {'sct_version': 1, 'log_id': 'VWhJdXZrS0pIUFFrUk5ER2JDaWU=', 'timestamp': 1652934758000, 'extensions': '', 'signature': 'MEUCIQDqZIjuNXmV+Rm9dl7h4/u+vZG3+Yj5CISgAzimuths/aiEQIgNupUwGiW8QHfy7WqIuYGCuR+cPkryBJcRqRHTLFa4='}\n",
      "j: 0, salt: b'salt0'\n",
      "index is 4\n",
      "updating element 0, 4\n",
      "[[0 0 0 0 1]\n",
      " [0 0 0 0 0]\n",
      " [0 0 0 0 0]\n",
      " [0 0 0 0 0]\n",
      " [0 0 0 0 0]]\n",
      "j: 1, salt: b'salt1'\n",
      "index is 2\n",
      "updating element 1, 2\n",
      "[[0 0 0 0 1]\n",
      " [0 0 1 0 0]\n",
      " [0 0 0 0 0]\n",
      " [0 0 0 0 0]\n",
      " [0 0 0 0 0]]\n",
      "j: 2, salt: b'salt2'\n",
      "index is 1\n",
      "updating element 2, 1\n",
      "[[0 0 0 0 1]\n",
      " [0 0 1 0 0]\n",
      " [0 1 0 0 0]\n",
      " [0 0 0 0 0]\n",
      " [0 0 0 0 0]]\n",
      "j: 3, salt: b'salt3'\n",
      "index is 1\n",
      "updating element 3, 1\n",
      "[[0 0 0 0 1]\n",
      " [0 0 1 0 0]\n",
      " [0 1 0 0 0]\n",
      " [0 1 0 0 0]\n",
      " [0 0 0 0 0]]\n",
      "j: 4, salt: b'salt4'\n",
      "index is 0\n",
      "updating element 4, 0\n",
      "[[0 0 0 0 1]\n",
      " [0 0 1 0 0]\n",
      " [0 1 0 0 0]\n",
      " [0 1 0 0 0]\n",
      " [1 0 0 0 0]]\n",
      "i: 1, sct: {'sct_version': 1, 'log_id': 'dXNlck5hbWVJRFJ1bm5pbmdLZXk=', 'timestamp': 1652934858000, 'extensions': '', 'signature': 'MEQCIF2O7Mr502uViBcN9h7Zv8BpdQWqvmD7AzhThsQFSSAiB6OaiCisVlvzWxw6OLQQZdQnIUlScVqPat2XtVuewvzK=='}\n",
      "j: 0, salt: b'salt0'\n",
      "index is 4\n",
      "updating element 0, 4\n",
      "[[0 0 0 0 1]\n",
      " [0 0 1 0 0]\n",
      " [0 1 0 0 0]\n",
      " [0 1 0 0 0]\n",
      " [1 0 0 0 0]]\n",
      "j: 1, salt: b'salt1'\n",
      "index is 2\n",
      "updating element 1, 2\n",
      "[[0 0 0 0 1]\n",
      " [0 0 1 0 0]\n",
      " [0 1 0 0 0]\n",
      " [0 1 0 0 0]\n",
      " [1 0 0 0 0]]\n",
      "j: 2, salt: b'salt2'\n",
      "index is 2\n",
      "updating element 2, 2\n",
      "[[0 0 0 0 1]\n",
      " [0 0 1 0 0]\n",
      " [0 1 1 0 0]\n",
      " [0 1 0 0 0]\n",
      " [1 0 0 0 0]]\n",
      "j: 3, salt: b'salt3'\n",
      "index is 1\n",
      "updating element 3, 1\n",
      "[[0 0 0 0 1]\n",
      " [0 0 1 0 0]\n",
      " [0 1 1 0 0]\n",
      " [0 1 0 0 0]\n",
      " [1 0 0 0 0]]\n",
      "j: 4, salt: b'salt4'\n",
      "index is 3\n",
      "updating element 4, 3\n",
      "[[0 0 0 0 1]\n",
      " [0 0 1 0 0]\n",
      " [0 1 1 0 0]\n",
      " [0 1 0 0 0]\n",
      " [1 0 0 1 0]]\n",
      "i: 2, sct: {'sct_version': 1, 'log_id': 'c2ltcGxlRXhhbXBsZUxvZ0lkSEFTSA==', 'timestamp': 1652934958000, 'extensions': '', 'signature': 'MEYCIQDzKb/5vOM4EQLBqpGaNqhYk1+8rMIz290NX9aZLo/idQIhAJLpSzs25KRO9yYoGvUwDbX5SxVp5DhppXdCN7maF2E3'}\n",
      "j: 0, salt: b'salt0'\n",
      "index is 1\n",
      "updating element 0, 1\n",
      "[[0 1 0 0 1]\n",
      " [0 0 1 0 0]\n",
      " [0 1 1 0 0]\n",
      " [0 1 0 0 0]\n",
      " [1 0 0 1 0]]\n",
      "j: 1, salt: b'salt1'\n",
      "index is 1\n",
      "updating element 1, 1\n",
      "[[0 1 0 0 1]\n",
      " [0 1 1 0 0]\n",
      " [0 1 1 0 0]\n",
      " [0 1 0 0 0]\n",
      " [1 0 0 1 0]]\n",
      "j: 2, salt: b'salt2'\n",
      "index is 1\n",
      "updating element 2, 1\n",
      "[[0 1 0 0 1]\n",
      " [0 1 1 0 0]\n",
      " [0 1 1 0 0]\n",
      " [0 1 0 0 0]\n",
      " [1 0 0 1 0]]\n",
      "j: 3, salt: b'salt3'\n",
      "index is 2\n",
      "updating element 3, 2\n",
      "[[0 1 0 0 1]\n",
      " [0 1 1 0 0]\n",
      " [0 1 1 0 0]\n",
      " [0 1 1 0 0]\n",
      " [1 0 0 1 0]]\n",
      "j: 4, salt: b'salt4'\n",
      "index is 2\n",
      "updating element 4, 2\n",
      "[[0 1 0 0 1]\n",
      " [0 1 1 0 0]\n",
      " [0 1 1 0 0]\n",
      " [0 1 1 0 0]\n",
      " [1 0 1 1 0]]\n",
      "[[0 1 0 0 1]\n",
      " [0 1 1 0 0]\n",
      " [0 1 1 0 0]\n",
      " [0 1 1 0 0]\n",
      " [1 0 1 1 0]]\n"
     ]
    }
   ],
   "source": [
    "for i, sct in enumerate(sct_list):\n",
    "    print(f\"i: {i}, sct: {sct}\")\n",
    "    for j, salt in enumerate(salt_list):\n",
    "        print(f\"j: {j}, salt: {salt}\")\n",
    "        sct_i_hashed = serialise_and_hash( salt, sct)\n",
    "        index_in_j = get_index_in_bloom_filter( bloom_filter_size, sct_i_hashed)\n",
    "        print(f\"updating element {j}, {index_in_j}\")\n",
    "        bloom_filter_1[j, index_in_j]=1\n",
    "        print(bloom_filter_1)\n",
    "\n",
    "print(bloom_filter_1)"
   ]
  },
  {
   "cell_type": "markdown",
   "metadata": {},
   "source": []
  },
  {
   "cell_type": "code",
   "execution_count": null,
   "metadata": {},
   "outputs": [],
   "source": []
  },
  {
   "cell_type": "code",
   "execution_count": 33,
   "metadata": {},
   "outputs": [
    {
     "name": "stdout",
     "output_type": "stream",
     "text": [
      "scaling_factor = floor(q/p) = 8464.0\n",
      "x = [0 0 0 0 0]\n",
      "scaling_factor = floor(q/p) = 8464.0\n",
      "x = [0 1 0 1 0]\n",
      "A = [[2745053 7276149  770881 ... 7505153   73860 6950544]\n",
      " [6674315  285887 2728292 ... 7202326 3959185 4666942]\n",
      " [3322337 6674171 1588761 ... 5100520 3509777 4294119]\n",
      " [1172162 6327670 2933043 ... 5795398 6332193 6787521]\n",
      " [7860228 6542746 1327153 ... 7480665 5007077 7644064]]\n",
      "s = [5609918  143131 1689621 ... 6637703 8270450 4539417]\n",
      "b = As + e mod q = [5044468. 6369932. 6552814.  426134. 7778646.]\n"
     ]
    }
   ],
   "source": [
    "import nbimporter\n",
    "\n",
    "from regev_encryption_schemised import sampleLWE, regevDecrpt, regevDecrpt\n",
    "\n",
    "\n",
    "# parameters\n",
    "# parameters\n",
    "n = 2**10\n",
    "m = 5 # sqrt(N), number of samples\n",
    "\n",
    "error_values = {\n",
    "    \"loc\": 0,\n",
    "    \"sigma\": 6.4,\n",
    "}\n",
    "q = 2**23\n",
    "p = 991 # plaintext modulus\n",
    "scaling_factor = np.floor(q/p)\n",
    "# x = np.random.choice([i for i in range(0, p+1)], m)\n",
    "x = np.random.choice([i for i in range(0, 2)], m)\n",
    "\n",
    "# x = np.array([0, 1])\n",
    "\n",
    "print(f\"scaling_factor = floor(q/p) = {np.floor(q/p)}\")\n",
    "print(f\"x = {x}\")\n",
    "n = 2**10\n",
    "m = 5 # sqrt(N), number of samples\n",
    "\n",
    "error_values = {\n",
    "    \"loc\": 0,\n",
    "    \"sigma\": 6.4,\n",
    "}\n",
    "q = 2**23\n",
    "p = 991 # plaintext modulus\n",
    "scaling_factor = np.floor(q/p)\n",
    "# x = np.random.choice([i for i in range(0, p+1)], m)\n",
    "x = np.random.choice([i for i in range(0, 2)], m)\n",
    "\n",
    "# x = np.array([0, 1])\n",
    "\n",
    "print(f\"scaling_factor = floor(q/p) = {np.floor(q/p)}\")\n",
    "print(f\"x = {x}\")\n",
    "\n",
    "secret= np.random.randint(0, q, (n))\n",
    "\n",
    "A, b = sampleLWE(m,n,q,error_values, secret)\n"
   ]
  },
  {
   "cell_type": "code",
   "execution_count": 34,
   "metadata": {},
   "outputs": [
    {
     "name": "stdout",
     "output_type": "stream",
     "text": [
      "[0 1 1 0 0]\n"
     ]
    }
   ],
   "source": [
    "# let the random i <- [A] be 2\n",
    "\n",
    "x = bloom_filter_1[2]\n",
    "print(x)"
   ]
  },
  {
   "cell_type": "code",
   "execution_count": 36,
   "metadata": {},
   "outputs": [
    {
     "name": "stdout",
     "output_type": "stream",
     "text": [
      "A = [[1218249 1794701 1000387 ... 1168532 4430079  215435]\n",
      " [4851225 5736340 6418285 ...  247492 1971583 1274259]\n",
      " [4848813 5056466 4608396 ... 2425046 2827506 4795463]\n",
      " [5611648 3030796 4694027 ... 3621338 6860016 7879230]\n",
      " [2567809 7316424 5272121 ... 6914805 1649860 7547875]]\n",
      "s = [5609918  143131 1689621 ... 6637703 8270450 4539417]\n",
      "b = As + e mod q = [3878650. 8032232. 7038456. 4396372. 7198798.]\n"
     ]
    },
    {
     "ename": "NameError",
     "evalue": "name 'regevEncrypt' is not defined",
     "output_type": "error",
     "traceback": [
      "\u001b[0;31m---------------------------------------------------------------------------\u001b[0m",
      "\u001b[0;31mNameError\u001b[0m                                 Traceback (most recent call last)",
      "Input \u001b[0;32mIn [36]\u001b[0m, in \u001b[0;36m<cell line: 2>\u001b[0;34m()\u001b[0m\n\u001b[1;32m      1\u001b[0m A, b \u001b[38;5;241m=\u001b[39m sampleLWE(m,n,q,error_values, secret)\n\u001b[0;32m----> 2\u001b[0m c \u001b[38;5;241m=\u001b[39m \u001b[43mregevEncrypt\u001b[49m(b, x, p, q)\n\u001b[1;32m      4\u001b[0m \u001b[38;5;28mprint\u001b[39m(c)\n",
      "\u001b[0;31mNameError\u001b[0m: name 'regevEncrypt' is not defined"
     ]
    }
   ],
   "source": [
    "\n",
    "c = regevEncrypt(b, x, p, q)\n",
    "\n",
    "print(c)"
   ]
  },
  {
   "cell_type": "code",
   "execution_count": null,
   "metadata": {},
   "outputs": [
    {
     "name": "stdout",
     "output_type": "stream",
     "text": [
      "x = [0 1 1 0 0]\n"
     ]
    },
    {
     "ename": "TypeError",
     "evalue": "regevDecrpt() takes 4 positional arguments but 5 were given",
     "output_type": "error",
     "traceback": [
      "\u001b[0;31m---------------------------------------------------------------------------\u001b[0m",
      "\u001b[0;31mTypeError\u001b[0m                                 Traceback (most recent call last)",
      "Input \u001b[0;32mIn [70]\u001b[0m, in \u001b[0;36m<cell line: 2>\u001b[0;34m()\u001b[0m\n\u001b[1;32m      1\u001b[0m \u001b[38;5;28mprint\u001b[39m(\u001b[38;5;124mf\u001b[39m\u001b[38;5;124m\"\u001b[39m\u001b[38;5;124mx = \u001b[39m\u001b[38;5;132;01m{\u001b[39;00mx\u001b[38;5;132;01m}\u001b[39;00m\u001b[38;5;124m\"\u001b[39m)\n\u001b[0;32m----> 2\u001b[0m d \u001b[38;5;241m=\u001b[39m \u001b[43mregevDecrpt\u001b[49m\u001b[43m(\u001b[49m\u001b[43mA\u001b[49m\u001b[43m,\u001b[49m\u001b[43m \u001b[49m\u001b[43msecret\u001b[49m\u001b[43m,\u001b[49m\u001b[43m \u001b[49m\u001b[43mq\u001b[49m\u001b[43m,\u001b[49m\u001b[43m \u001b[49m\u001b[43mp\u001b[49m\u001b[43m,\u001b[49m\u001b[43m \u001b[49m\u001b[43mc\u001b[49m\u001b[43m)\u001b[49m\n",
      "\u001b[0;31mTypeError\u001b[0m: regevDecrpt() takes 4 positional arguments but 5 were given"
     ]
    }
   ],
   "source": [
    "print(f\"x = {x}\")\n",
    "d = regevDecrpt(A, secret, q, p, c)"
   ]
  }
 ],
 "metadata": {
  "kernelspec": {
   "display_name": "Python 3",
   "language": "python",
   "name": "python3"
  },
  "language_info": {
   "codemirror_mode": {
    "name": "ipython",
    "version": 3
   },
   "file_extension": ".py",
   "mimetype": "text/x-python",
   "name": "python",
   "nbconvert_exporter": "python",
   "pygments_lexer": "ipython3",
   "version": "3.10.12"
  }
 },
 "nbformat": 4,
 "nbformat_minor": 2
}
