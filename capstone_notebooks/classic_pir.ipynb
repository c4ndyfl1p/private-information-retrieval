{
 "cells": [
  {
   "cell_type": "markdown",
   "metadata": {},
   "source": [
    "# Ostrofsky's rootN times rootN PIR scheme based on Learning with Errors and Regev Encryption :\n",
    "\n",
    "Using parameters from the paper: **One server for the price of Two: Simple and Fast Single-Server Private Information Retreival**\n",
    "\n",
    "Here the number of LWE samples(m) = m"
   ]
  },
  {
   "cell_type": "code",
   "execution_count": 13,
   "metadata": {},
   "outputs": [
    {
     "name": "stdout",
     "output_type": "stream",
     "text": [
      "scaling_factor = floor(q/p) = 8464.0\n",
      "[   0. 8464.    0.    0.    0.    0.    0.    0.    0.    0.]\n",
      "x = [0. 1. 0. 0. 0. 0. 0. 0. 0. 0.]\n",
      "db = [[372 565 193 621 898 962 620 240 226 213]\n",
      " [599 404 548 752  47 944 397 351 602 844]\n",
      " [162 762 231 816 683 858 482 173 657 331]\n",
      " [925 583 858 482 129 553 663 361 873 850]\n",
      " [293 714 308 612 625 286 687 629 429 274]\n",
      " [476 470 302 276  65 431 777 651 641 916]\n",
      " [664 234 317 967 304 662 630 554 820 114]\n",
      " [ 40 140 107 756 417 151 710 987 167 558]\n",
      " [593 648 822 188  28 880 136  44 207 225]\n",
      " [864 693 710  85 434 694 901 591 540 623]]\n"
     ]
    }
   ],
   "source": [
    "import numpy as np\n",
    "\n",
    "\n",
    "# parameters\n",
    "n = 2**10\n",
    "m = 10 # sqrt(N), number of samples\n",
    "\n",
    "error_values = {\n",
    "    \"loc\": 0,\n",
    "    \"sigma\": 6.4,\n",
    "}\n",
    "q = 2**23\n",
    "p = 991 # plaintext modulus\n",
    "scaling_factor = np.floor(q/p)\n",
    "\n",
    "\n",
    "print(f\"scaling_factor = floor(q/p) = {np.floor(q/p)}\")\n",
    "\n",
    "x = np.zeros(m)\n",
    "x[1]=1\n",
    "print(x * scaling_factor)\n",
    "print(f\"x = {x}\")\n",
    "\n",
    "db = np.random.randint(0, 2, (m,m))\n",
    "print(f\"db = {db}\")"
   ]
  },
  {
   "cell_type": "code",
   "execution_count": 14,
   "metadata": {},
   "outputs": [],
   "source": [
    "#using matrices (when you have m samples)\n",
    "\n",
    "\n",
    "def sampleLWE(m,n,q,error_values, s):\n",
    "    A= np.random.randint(0, q, (m,n))\n",
    "    \n",
    "    e= np.random.normal(error_values[\"loc\"], error_values[\"sigma\"], (m) )\n",
    "\n",
    "    print(f\"A = {A}\")\n",
    "    print(f\"s = {s}\")\n",
    "    # print(f\"e = {e}\")\n",
    "\n",
    "\n",
    "    # Computing the dot product and adding the error\n",
    "\n",
    "    # Outputting the vectors a, s and the value b\n",
    "\n",
    "    b = (np.dot(A,s)  + e ) % q\n",
    "    print(f\"b = As + e mod q = {b}\")\n",
    "    b_prime = (np.dot(A,s) % q + e)\n",
    "\n",
    "\n",
    "    return A, b_prime\n",
    "\n",
    "\n"
   ]
  },
  {
   "cell_type": "code",
   "execution_count": 15,
   "metadata": {},
   "outputs": [],
   "source": [
    "# print(f\"A = \", A)\n",
    "# print(type(A), A.shape)\n",
    "# print(f\"s = \", s)\n",
    "# print(type(s), s.shape)\n",
    "# print(f\"e = \", e)\n",
    "# print(type(e), e.shape)"
   ]
  },
  {
   "cell_type": "code",
   "execution_count": 16,
   "metadata": {},
   "outputs": [
    {
     "name": "stdout",
     "output_type": "stream",
     "text": [
      "A = [[2348434 1482656 3794582 ... 4571387 5195981 5286873]\n",
      " [7522687 5087607 5811939 ... 7793064 1657616 7426621]\n",
      " [8043383 6331916 1810174 ... 6088790 3142966 2148332]\n",
      " ...\n",
      " [ 148011  656658 1753195 ... 7570667 4576037 1077199]\n",
      " [7883553 8366683 5836804 ... 4625040 8300232 3513764]\n",
      " [7031726 5962303 7336280 ... 1808084 3755676 4733082]]\n",
      "s = [7105606 7613687 3048286 ... 5192019 7457416 3020859]\n",
      "b = As + e mod q = [6736716. 1181856. 8050416. 7684352.  939506. 4957714.  331730. 7905374.\n",
      "   76450. 2539444.]\n"
     ]
    }
   ],
   "source": [
    "secret= np.random.randint(0, q, (n))\n",
    "\n",
    "A, b = sampleLWE(m,n,q,error_values, secret)"
   ]
  },
  {
   "cell_type": "code",
   "execution_count": 17,
   "metadata": {},
   "outputs": [],
   "source": [
    "# print(f\"as mod q = {np.dot(A, s)% q}\")\n",
    "\n",
    "# print(f\"(b = As mod q + e ) mod q = \", b)\n",
    "\n",
    "# print(f\" b_prime = As + e mod q    = {b_prime}\")"
   ]
  },
  {
   "cell_type": "code",
   "execution_count": 18,
   "metadata": {},
   "outputs": [],
   "source": [
    "# Encryption\n",
    "\n",
    "def regevEncrypt(b, x, p, q):\n",
    "    scaling_factor = np.floor(q/p)\n",
    "    c =( b + scaling_factor*x ) \n",
    "    c_mod_q = c % q\n",
    "\n",
    "    \n",
    "\n",
    "    # print(f\"c= As + e + (floor(q/p) * x) \\n \\\\ \\\n",
    "    # = As + e + {scaling_factor}*{x} = {c} = {c_mod_q}\")\n",
    "\n",
    "    return c_mod_q"
   ]
  },
  {
   "cell_type": "code",
   "execution_count": 19,
   "metadata": {},
   "outputs": [
    {
     "name": "stdout",
     "output_type": "stream",
     "text": [
      "[6736715.51365367 1190319.93297226 8050416.21808572 7684353.59445417\n",
      "  939506.67030583 4957714.67491739  331729.46812539 7905375.38049943\n",
      "   76449.32933107 2539441.6833221 ]\n"
     ]
    }
   ],
   "source": [
    "\n",
    "\n",
    "c = regevEncrypt(b, x, p, q)\n",
    "print(c)"
   ]
  },
  {
   "cell_type": "markdown",
   "metadata": {},
   "source": [
    "Send Client --- (mu_enc = A, c) ----> Server"
   ]
  },
  {
   "cell_type": "code",
   "execution_count": 20,
   "metadata": {},
   "outputs": [
    {
     "name": "stdout",
     "output_type": "stream",
     "text": [
      "[[7482587 6081125 6980638 ... 6602940 5178384 1516908]\n",
      " [6561588 7893972 4659972 ... 3553601 2441404 6499275]\n",
      " [5218530 1948908 6732008 ... 3114088 5897015 6749244]\n",
      " ...\n",
      " [7492470 3412268 4678648 ... 8146101 5301189  173525]\n",
      " [3301869 3708104 1280178 ...  135899  445297 3087011]\n",
      " [  37135 7372441 2032433 ...  137763 3803681  649243]]\n",
      "[2981989.1942749  6576753.14847565 2242547.5001297  4083035.45292664\n",
      " 5335877.0361557  8197532.8494339  6391142.58605957 6825893.54883194\n",
      " 2655686.2083931  2551306.22599411]\n"
     ]
    }
   ],
   "source": [
    "# server computations:\n",
    "\n",
    "# D dot A\n",
    "\n",
    "# do you reduce the entire thing modulo q or at the end only\n",
    "\n",
    "DA = np.dot(db,A) % q\n",
    "Dc = np.dot(db,c) % q\n",
    "\n",
    "print(DA)\n",
    "print(Dc)"
   ]
  },
  {
   "cell_type": "code",
   "execution_count": 21,
   "metadata": {},
   "outputs": [],
   "source": [
    "#Decryption\n",
    "\n",
    "# print(np.dot(a, s), np.dot(a,s) % q)\n",
    "\n",
    "def rounding(x, round_off_to):\n",
    "    \"\"\"\n",
    "    Rounds off a number x to the nearest multiple of round_off_to.\n",
    "\n",
    "    :param x: The number to be rounded off.\n",
    "    :param round_off_to: The nearest multiple to which x needs to be rounded off.\n",
    "    :return: The rounded off value.\n",
    "    \"\"\"\n",
    "    return np.round(x / round_off_to) * round_off_to\n",
    "\n",
    "# def regevDecrpt(A, s, q, p, c):\n",
    "#     scaling_factor = np.floor(q/p)\n",
    "#     # a_s_mod_q = np.dot(A,s)%q \n",
    "#     # print(f\"a_s_modq = as mod q = \", a_s_mod_q)\n",
    "\n",
    "#     d_hat = (c - np.dot(A, s)) % q \n",
    "\n",
    "#     print(f\"d_hat = c - as mod q= {c} - {np.dot(A,s)} mod q = \", d_hat)\n",
    "#     rounded_d = rounding(d_hat, scaling_factor)\n",
    "\n",
    "\n",
    "\n",
    "#     print(f\"rounded d = {rounded_d}\")\n",
    "    \n",
    "#     d = rounded_d / scaling_factor\n",
    "#     print(f\"d = rounded_d/ floor(q/p)= {rounded_d}/ {scaling_factor} = {d}\" )\n",
    "#     return d\n",
    "\n",
    "\n",
    "\n",
    "\n"
   ]
  },
  {
   "cell_type": "code",
   "execution_count": 22,
   "metadata": {},
   "outputs": [
    {
     "name": "stdout",
     "output_type": "stream",
     "text": [
      "[[7482587 6081125 6980638 ... 6602940 5178384 1516908]\n",
      " [6561588 7893972 4659972 ... 3553601 2441404 6499275]\n",
      " [5218530 1948908 6732008 ... 3114088 5897015 6749244]\n",
      " ...\n",
      " [7492470 3412268 4678648 ... 8146101 5301189  173525]\n",
      " [3301869 3708104 1280178 ...  135899  445297 3087011]\n",
      " [  37135 7372441 2032433 ...  137763 3803681  649243]]\n",
      "[2981989.1942749  6576753.14847565 2242547.5001297  4083035.45292664\n",
      " 5335877.0361557  8197532.8494339  6391142.58605957 6825893.54883194\n",
      " 2655686.2083931  2551306.22599411]\n"
     ]
    }
   ],
   "source": [
    "print(DA)\n",
    "print(Dc)"
   ]
  },
  {
   "cell_type": "code",
   "execution_count": 23,
   "metadata": {},
   "outputs": [
    {
     "name": "stdout",
     "output_type": "stream",
     "text": [
      "d_hat = 4773516.0\n",
      "d_hat_prime = 4773516.0\n",
      "rounded d = 4773696.0\n",
      "d = rounded_d/ floor(q/p)= 4773696.0/ 8464.0 = 564.0\n",
      "[[372 565 193 621 898 962 620 240 226 213]\n",
      " [599 404 548 752  47 944 397 351 602 844]\n",
      " [162 762 231 816 683 858 482 173 657 331]\n",
      " [925 583 858 482 129 553 663 361 873 850]\n",
      " [293 714 308 612 625 286 687 629 429 274]\n",
      " [476 470 302 276  65 431 777 651 641 916]\n",
      " [664 234 317 967 304 662 630 554 820 114]\n",
      " [ 40 140 107 756 417 151 710 987 167 558]\n",
      " [593 648 822 188  28 880 136  44 207 225]\n",
      " [864 693 710  85 434 694 901 591 540 623]]\n"
     ]
    }
   ],
   "source": [
    "d_hat = ( Dc[0] - np.dot(DA[0], secret) ) % q\n",
    "print(f\"d_hat = {d_hat}\")\n",
    "\n",
    "d_hat_prime = ( Dc[0] - ( np.dot(DA[0], secret) % q  ) ) % q\n",
    "print(f\"d_hat_prime = {d_hat}\")\n",
    "\n",
    "rounded_d = rounding(d_hat_prime, scaling_factor)\n",
    "\n",
    "\n",
    "\n",
    "print(f\"rounded d = {rounded_d}\")\n",
    "\n",
    "d = rounded_d / scaling_factor\n",
    "print(f\"d = rounded_d/ floor(q/p)= {rounded_d}/ {scaling_factor} = {d}\" )\n",
    "\n",
    "print(db)"
   ]
  },
  {
   "cell_type": "code",
   "execution_count": 24,
   "metadata": {},
   "outputs": [],
   "source": [
    "# print(f\"x = {x}\")\n",
    "# d = regevDecrpt(A, secret, q, p, c = Dc[0])"
   ]
  }
 ],
 "metadata": {
  "kernelspec": {
   "display_name": "Python 3",
   "language": "python",
   "name": "python3"
  },
  "language_info": {
   "codemirror_mode": {
    "name": "ipython",
    "version": 3
   },
   "file_extension": ".py",
   "mimetype": "text/x-python",
   "name": "python",
   "nbconvert_exporter": "python",
   "pygments_lexer": "ipython3",
   "version": "3.10.12"
  }
 },
 "nbformat": 4,
 "nbformat_minor": 2
}
