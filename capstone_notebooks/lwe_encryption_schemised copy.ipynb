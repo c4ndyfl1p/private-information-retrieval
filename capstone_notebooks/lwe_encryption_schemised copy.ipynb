{
 "cells": [
  {
   "cell_type": "markdown",
   "metadata": {},
   "source": [
    "# Ostrofsky's rootN times rootN PIR scheme based on Learning with Errors and Regev Encryption :\n",
    "\n",
    "Using parameters from the paper: **One server for the price of Two: Simple and Fast Single-Server Private Information Retreival**\n",
    "\n",
    "Here the number of LWE samples(m) = m"
   ]
  },
  {
   "cell_type": "code",
   "execution_count": 378,
   "metadata": {},
   "outputs": [
    {
     "name": "stdout",
     "output_type": "stream",
     "text": [
      "scaling_factor = floor(q/p) = 8464.0\n",
      "[   0. 8464.]\n",
      "x = [0 1]\n",
      "db = [[413 837]\n",
      " [372 756]]\n"
     ]
    }
   ],
   "source": [
    "import numpy as np\n",
    "\n",
    "\n",
    "# parameters\n",
    "n = 2**10\n",
    "m = 2 # sqrt(N), number of samples\n",
    "\n",
    "error_values = {\n",
    "    \"loc\": 0,\n",
    "    \"sigma\": 6.4,\n",
    "}\n",
    "q = 2**23\n",
    "p = 991 # plaintext modulus\n",
    "scaling_factor = np.floor(q/p)\n",
    "\n",
    "x = np.array([0, 1])\n",
    "print(f\"scaling_factor = floor(q/p) = {np.floor(q/p)}\")\n",
    "\n",
    "print(x * scaling_factor)\n",
    "print(f\"x = {x}\")\n",
    "\n",
    "db = np.random.randint(0, p, (m,m))\n",
    "print(f\"db = {db}\")"
   ]
  },
  {
   "cell_type": "code",
   "execution_count": 379,
   "metadata": {},
   "outputs": [],
   "source": [
    "#using matrices (when you have m samples)\n",
    "\n",
    "\n",
    "def sampleLWE(m,n,q,error_values, s):\n",
    "    A= np.random.randint(0, q, (m,n))\n",
    "    \n",
    "    e= np.random.normal(error_values[\"loc\"], error_values[\"sigma\"], (m) )\n",
    "\n",
    "    print(f\"A = {A}\")\n",
    "    print(f\"s = {s}\")\n",
    "    # print(f\"e = {e}\")\n",
    "\n",
    "\n",
    "    # Computing the dot product and adding the error\n",
    "\n",
    "    # Outputting the vectors a, s and the value b\n",
    "\n",
    "    b = (np.dot(A,s)  + e ) % q\n",
    "    print(f\"b = As + e mod q = {b}\")\n",
    "    b_prime = (np.dot(A,s) % q + e) % q\n",
    "\n",
    "\n",
    "    return A, b\n",
    "\n",
    "\n"
   ]
  },
  {
   "cell_type": "code",
   "execution_count": 380,
   "metadata": {},
   "outputs": [],
   "source": [
    "# print(f\"A = \", A)\n",
    "# print(type(A), A.shape)\n",
    "# print(f\"s = \", s)\n",
    "# print(type(s), s.shape)\n",
    "# print(f\"e = \", e)\n",
    "# print(type(e), e.shape)"
   ]
  },
  {
   "cell_type": "code",
   "execution_count": 381,
   "metadata": {},
   "outputs": [
    {
     "name": "stdout",
     "output_type": "stream",
     "text": [
      "A = [[7621029 6116754 2994212 ... 4374130 3394543 5963646]\n",
      " [8027628 7927635 5821658 ... 6863943 3347644 1839983]]\n",
      "s = [8241637 5237951  502421 ... 1450150  759611  330145]\n",
      "b = As + e mod q = [1705812. 1452036.]\n"
     ]
    }
   ],
   "source": [
    "secret= np.random.randint(0, q, (n))\n",
    "\n",
    "A, b = sampleLWE(m,n,q,error_values, secret)"
   ]
  },
  {
   "cell_type": "code",
   "execution_count": 382,
   "metadata": {},
   "outputs": [],
   "source": [
    "# print(f\"as mod q = {np.dot(A, s)% q}\")\n",
    "\n",
    "# print(f\"(b = As mod q + e ) mod q = \", b)\n",
    "\n",
    "# print(f\" b_prime = As + e mod q    = {b_prime}\")"
   ]
  },
  {
   "cell_type": "code",
   "execution_count": 383,
   "metadata": {},
   "outputs": [],
   "source": [
    "# Encryption\n",
    "\n",
    "def regevEncrypt(b, x, p, q):\n",
    "    scaling_factor = np.floor(q/p)\n",
    "    c =( b + scaling_factor*x ) \n",
    "    c_mod_q = c % q\n",
    "\n",
    "    \n",
    "\n",
    "    # print(f\"c= As + e + (floor(q/p) * x) \\n \\\\ \\\n",
    "    # = As + e + {scaling_factor}*{x} = {c} = {c_mod_q}\")\n",
    "\n",
    "    return c_mod_q"
   ]
  },
  {
   "cell_type": "code",
   "execution_count": 384,
   "metadata": {},
   "outputs": [
    {
     "name": "stdout",
     "output_type": "stream",
     "text": [
      "[1705812. 1460500.]\n"
     ]
    }
   ],
   "source": [
    "\n",
    "\n",
    "c = regevEncrypt(b, x, p, q)\n",
    "print(c)"
   ]
  },
  {
   "cell_type": "markdown",
   "metadata": {},
   "source": [
    "Send Client --- (mu_enc = A, c) ----> Server"
   ]
  },
  {
   "cell_type": "code",
   "execution_count": 385,
   "metadata": {},
   "outputs": [
    {
     "name": "stdout",
     "output_type": "stream",
     "text": [
      "[[1606605 1289961 2430678 ... 1888781 1231679 1685553]\n",
      " [3596468 5945668 3704856 ... 4767572 1938044 2402020]]\n",
      "[5947624. 2258208.]\n"
     ]
    }
   ],
   "source": [
    "# server computations:\n",
    "\n",
    "# D dot A\n",
    "\n",
    "DA = np.dot(db,A) % q\n",
    "Dc = np.dot(db,c) % q\n",
    "\n",
    "print(DA)\n",
    "print(Dc)"
   ]
  },
  {
   "cell_type": "code",
   "execution_count": 386,
   "metadata": {},
   "outputs": [],
   "source": [
    "#Decryption\n",
    "\n",
    "# print(np.dot(a, s), np.dot(a,s) % q)\n",
    "\n",
    "def rounding(x, round_off_to):\n",
    "    \"\"\"\n",
    "    Rounds off a number x to the nearest multiple of round_off_to.\n",
    "\n",
    "    :param x: The number to be rounded off.\n",
    "    :param round_off_to: The nearest multiple to which x needs to be rounded off.\n",
    "    :return: The rounded off value.\n",
    "    \"\"\"\n",
    "    return np.round(x / round_off_to) * round_off_to\n",
    "\n",
    "def regevDecrpt(A, s, q, p, c):\n",
    "    scaling_factor = np.floor(q/p)\n",
    "    # a_s_mod_q = np.dot(A,s)%q \n",
    "    # print(f\"a_s_modq = as mod q = \", a_s_mod_q)\n",
    "\n",
    "    d_hat = (c - np.dot(A, s)) % q \n",
    "\n",
    "    print(f\"d_hat = c - as mod q= {c} - {np.dot(A,s)} mod q = \", d_hat)\n",
    "    rounded_d = rounding(d_hat, scaling_factor)\n",
    "\n",
    "\n",
    "\n",
    "    print(f\"rounded d = {rounded_d}\")\n",
    "    \n",
    "    d = rounded_d / scaling_factor\n",
    "    print(f\"d = rounded_d/ floor(q/p)= {rounded_d}/ {scaling_factor} = {d}\" )\n",
    "    return d\n",
    "\n",
    "\n",
    "\n",
    "\n"
   ]
  },
  {
   "cell_type": "code",
   "execution_count": 387,
   "metadata": {},
   "outputs": [
    {
     "name": "stdout",
     "output_type": "stream",
     "text": [
      "[[1606605 1289961 2430678 ... 1888781 1231679 1685553]\n",
      " [3596468 5945668 3704856 ... 4767572 1938044 2402020]]\n",
      "[5947624. 2258208.]\n"
     ]
    }
   ],
   "source": [
    "print(DA)\n",
    "print(Dc)"
   ]
  },
  {
   "cell_type": "code",
   "execution_count": 390,
   "metadata": {},
   "outputs": [
    {
     "name": "stdout",
     "output_type": "stream",
     "text": [
      "d_hat = 7081500.0\n",
      "d_hat_prime = 6396204.0\n",
      "rounded d = 6398784.0\n",
      "d = rounded_d/ floor(q/p)= 6398784.0/ 8464.0 = 756.0\n",
      "[[413 837]\n",
      " [372 756]]\n"
     ]
    }
   ],
   "source": [
    "d_hat = ( Dc[0] - np.dot(DA[0], secret) ) % q\n",
    "print(f\"d_hat = {d_hat}\")\n",
    "\n",
    "d_hat_prime = ( Dc[1] - (np.dot(DA[1], secret)) %q ) % q\n",
    "print(f\"d_hat_prime = {d_hat_prime}\")\n",
    "\n",
    "rounded_d = rounding(d_hat_prime, scaling_factor)\n",
    "\n",
    "\n",
    "\n",
    "print(f\"rounded d = {rounded_d}\")\n",
    "\n",
    "d = rounded_d / scaling_factor\n",
    "print(f\"d = rounded_d/ floor(q/p)= {rounded_d}/ {scaling_factor} = {d}\" )\n",
    "\n",
    "print(db)"
   ]
  },
  {
   "cell_type": "code",
   "execution_count": 389,
   "metadata": {},
   "outputs": [
    {
     "name": "stdout",
     "output_type": "stream",
     "text": [
      "x = [0 1]\n",
      "d_hat = c - as mod q= 5947624.0 - [18490217150941023 18518784018360322] mod q =  [4241800. 4495592.]\n",
      "rounded d = [4240464. 4494384.]\n",
      "d = rounded_d/ floor(q/p)= [4240464. 4494384.]/ 8464.0 = [501. 531.]\n"
     ]
    }
   ],
   "source": [
    "print(f\"x = {x}\")\n",
    "d = regevDecrpt(A, secret, q, p, c = Dc[0])"
   ]
  }
 ],
 "metadata": {
  "kernelspec": {
   "display_name": "Python 3",
   "language": "python",
   "name": "python3"
  },
  "language_info": {
   "codemirror_mode": {
    "name": "ipython",
    "version": 3
   },
   "file_extension": ".py",
   "mimetype": "text/x-python",
   "name": "python",
   "nbconvert_exporter": "python",
   "pygments_lexer": "ipython3",
   "version": "3.10.12"
  }
 },
 "nbformat": 4,
 "nbformat_minor": 2
}
