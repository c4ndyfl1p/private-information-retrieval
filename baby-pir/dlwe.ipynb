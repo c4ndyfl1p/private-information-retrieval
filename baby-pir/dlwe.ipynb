{
 "cells": [
  {
   "cell_type": "code",
   "execution_count": null,
   "metadata": {},
   "outputs": [],
   "source": []
  },
  {
   "cell_type": "code",
   "execution_count": 3,
   "metadata": {},
   "outputs": [],
   "source": [
    "import numpy as np\n",
    "\n",
    "def random_matrix(n, m, p):\n",
    "    \"\"\"Generate a random matrix of size n x m with entries from Z_p.\"\"\"\n",
    "    return np.random.randint(0, p, size=(n, m))\n",
    "\n",
    "def random_vector(n, p):\n",
    "    \"\"\"Generate a random row vector of size 1 x n with entries from Z_p.\"\"\"\n",
    "    return np.random.randint(0, p, size=(1, n))\n",
    "\n",
    "def random_noise_vector(n):\n",
    "    \"\"\"Generate a noise vector of size 1 x n with entries as 0 or 1.\"\"\"\n",
    "    return np.random.randint(0, 2, size=(1, n))  # Values in range [0, 2) i.e., 0 or 1\n",
    "\n",
    "\n"
   ]
  },
  {
   "cell_type": "code",
   "execution_count": 72,
   "metadata": {},
   "outputs": [
    {
     "name": "stdout",
     "output_type": "stream",
     "text": [
      "sample True\n",
      "Matrix A:\n",
      "[[2 0]\n",
      " [6 2]\n",
      " [0 0]]\n",
      "\n",
      "Noisy Result:\n",
      "[[1 1]]\n",
      "==========================\n",
      "sample_random\n",
      "Matrix A:\n",
      "[[3 2]\n",
      " [3 6]\n",
      " [3 4]]\n",
      "\n",
      "Noisy Result:\n",
      "[[3 1]]\n"
     ]
    }
   ],
   "source": [
    "def sample_true():\n",
    "    \n",
    "    A = random_matrix(n, m, p)\n",
    "    s = random_vector(n, p)\n",
    "    E = random_noise_vector(m)\n",
    "    # b = A * s + e\n",
    "    b = ( np.dot(s, A) % p ) + E\n",
    "    \n",
    "    return (A, b)\n",
    "\n",
    "def sample_random():\n",
    "    A = random_matrix(n, m, p)\n",
    "    b = random_vector(m, p)\n",
    "    \n",
    "    return (A, b)\n",
    "\n",
    "\n",
    "\n",
    "print(\"sample True\")\n",
    "\n",
    "A, b = sample_true()\n",
    "\n",
    "print(\"Matrix A:\")\n",
    "print(A)\n",
    "print(\"\\nNoisy Result:\")\n",
    "print(b)\n",
    "\n",
    "print(\"==========================\")\n",
    "\n",
    "print(\"sample_random\")\n",
    "A, b = sample_random()\n",
    "print(\"Matrix A:\")\n",
    "print(A)\n",
    "print(\"\\nNoisy Result:\")\n",
    "print(b)"
   ]
  },
  {
   "cell_type": "code",
   "execution_count": 51,
   "metadata": {},
   "outputs": [],
   "source": [
    "\n",
    "\n"
   ]
  },
  {
   "cell_type": "code",
   "execution_count": 14,
   "metadata": {},
   "outputs": [
    {
     "name": "stdout",
     "output_type": "stream",
     "text": [
      "s: [[1 4 5]]\n",
      "A:[[6 4]\n",
      " [3 1]\n",
      " [1 2]]\n",
      "\n",
      "c:[[3. 5.]]\n",
      "\n",
      "pt: [[0. 0.]]\n"
     ]
    }
   ],
   "source": [
    "n = 512\n",
    "m = 512\n",
    "p = 3329\n",
    "\n",
    "n = 3\n",
    "m = 2\n",
    "p = 7\n",
    "\n",
    "noise_distribution = [-3, 3]\n",
    "\n",
    "def get_LWE_sample(s):\n",
    "    A = random_matrix(n,m,p)\n",
    "    e = random_noise_vector(m)    \n",
    "    # b = A * s + e\n",
    "    b = ( np.dot(s, A) % p ) + e   \n",
    "    return (A, b)\n",
    "\n",
    "\n",
    "def keygen():\n",
    "    s = random_vector(n, p)\n",
    "    return s\n",
    "\n",
    "def encrypt(s, x):\n",
    "    assert x == 0 or x == 1 # this is the message\n",
    "    (A, b) = get_LWE_sample(s)\n",
    "    c = b + np.floor(p / 2) * x\n",
    "    return (A, c)\n",
    "\n",
    "def decrypt(s, A, c):\n",
    "    # raw = c -A * s\n",
    "    raw = c - (np.dot(s,A) %p )\n",
    "    return np.round(raw * 2 / p)\n",
    "\n",
    "#==================================\n",
    "\n",
    "s = keygen()\n",
    "print(f\"s: {s}\")\n",
    "\n",
    "# (A, b) = get_LWE_sample(s)\n",
    "# print(f\"b=As+e = {b}\\n\")     \n",
    "\n",
    "(A, c) = encrypt(s, x=0)\n",
    "print(f\"A:{A}\\n\")\n",
    "print(f\"c:{c}\\n\")\n",
    "\n",
    "pt = decrypt(s, A, c)\n",
    "print(f\"pt: {pt}\")"
   ]
  },
  {
   "cell_type": "code",
   "execution_count": 6,
   "metadata": {},
   "outputs": [
    {
     "name": "stdout",
     "output_type": "stream",
     "text": [
      "s: [[2 4 4]]\n"
     ]
    },
    {
     "ename": "NameError",
     "evalue": "name 'E' is not defined",
     "output_type": "error",
     "traceback": [
      "\u001b[0;31m---------------------------------------------------------------------------\u001b[0m",
      "\u001b[0;31mNameError\u001b[0m                                 Traceback (most recent call last)",
      "\u001b[1;32m/home/c4ndyp0p/sem7/capstone/implementation/dlwe.ipynb Cell 6\u001b[0m line \u001b[0;36m<cell line: 7>\u001b[0;34m()\u001b[0m\n\u001b[1;32m      <a href='vscode-notebook-cell:/home/c4ndyp0p/sem7/capstone/implementation/dlwe.ipynb#W5sZmlsZQ%3D%3D?line=1'>2</a>\u001b[0m \u001b[39mprint\u001b[39m(\u001b[39mf\u001b[39m\u001b[39m\"\u001b[39m\u001b[39ms: \u001b[39m\u001b[39m{\u001b[39;00ms\u001b[39m}\u001b[39;00m\u001b[39m\"\u001b[39m)\n\u001b[1;32m      <a href='vscode-notebook-cell:/home/c4ndyp0p/sem7/capstone/implementation/dlwe.ipynb#W5sZmlsZQ%3D%3D?line=3'>4</a>\u001b[0m \u001b[39m# (A, b) = get_LWE_sample(s)\u001b[39;00m\n\u001b[1;32m      <a href='vscode-notebook-cell:/home/c4ndyp0p/sem7/capstone/implementation/dlwe.ipynb#W5sZmlsZQ%3D%3D?line=4'>5</a>\u001b[0m \u001b[39m# print(f\"b=As+e = {b}\\n\")     \u001b[39;00m\n\u001b[0;32m----> <a href='vscode-notebook-cell:/home/c4ndyp0p/sem7/capstone/implementation/dlwe.ipynb#W5sZmlsZQ%3D%3D?line=6'>7</a>\u001b[0m (A, c) \u001b[39m=\u001b[39m encrypt(s, x\u001b[39m=\u001b[39;49m\u001b[39m0\u001b[39;49m)\n",
      "\u001b[1;32m/home/c4ndyp0p/sem7/capstone/implementation/dlwe.ipynb Cell 6\u001b[0m line \u001b[0;36mencrypt\u001b[0;34m(s, x)\u001b[0m\n\u001b[1;32m     <a href='vscode-notebook-cell:/home/c4ndyp0p/sem7/capstone/implementation/dlwe.ipynb#W5sZmlsZQ%3D%3D?line=22'>23</a>\u001b[0m \u001b[39mdef\u001b[39;00m \u001b[39mencrypt\u001b[39m(s, x):\n\u001b[1;32m     <a href='vscode-notebook-cell:/home/c4ndyp0p/sem7/capstone/implementation/dlwe.ipynb#W5sZmlsZQ%3D%3D?line=23'>24</a>\u001b[0m     \u001b[39massert\u001b[39;00m x \u001b[39m==\u001b[39m \u001b[39m0\u001b[39m \u001b[39mor\u001b[39;00m x \u001b[39m==\u001b[39m \u001b[39m1\u001b[39m \u001b[39m# this is the message\u001b[39;00m\n\u001b[0;32m---> <a href='vscode-notebook-cell:/home/c4ndyp0p/sem7/capstone/implementation/dlwe.ipynb#W5sZmlsZQ%3D%3D?line=24'>25</a>\u001b[0m     (A, b) \u001b[39m=\u001b[39m get_LWE_sample(s)\n\u001b[1;32m     <a href='vscode-notebook-cell:/home/c4ndyp0p/sem7/capstone/implementation/dlwe.ipynb#W5sZmlsZQ%3D%3D?line=25'>26</a>\u001b[0m     c \u001b[39m=\u001b[39m b \u001b[39m+\u001b[39m np\u001b[39m.\u001b[39mfloor(p \u001b[39m/\u001b[39m \u001b[39m2\u001b[39m) \u001b[39m*\u001b[39m x\n\u001b[1;32m     <a href='vscode-notebook-cell:/home/c4ndyp0p/sem7/capstone/implementation/dlwe.ipynb#W5sZmlsZQ%3D%3D?line=26'>27</a>\u001b[0m     \u001b[39mreturn\u001b[39;00m (A, c)\n",
      "\u001b[1;32m/home/c4ndyp0p/sem7/capstone/implementation/dlwe.ipynb Cell 6\u001b[0m line \u001b[0;36mget_LWE_sample\u001b[0;34m(s)\u001b[0m\n\u001b[1;32m     <a href='vscode-notebook-cell:/home/c4ndyp0p/sem7/capstone/implementation/dlwe.ipynb#W5sZmlsZQ%3D%3D?line=12'>13</a>\u001b[0m e \u001b[39m=\u001b[39m random_noise_vector(m)    \n\u001b[1;32m     <a href='vscode-notebook-cell:/home/c4ndyp0p/sem7/capstone/implementation/dlwe.ipynb#W5sZmlsZQ%3D%3D?line=13'>14</a>\u001b[0m \u001b[39m# b = A * s + e\u001b[39;00m\n\u001b[0;32m---> <a href='vscode-notebook-cell:/home/c4ndyp0p/sem7/capstone/implementation/dlwe.ipynb#W5sZmlsZQ%3D%3D?line=14'>15</a>\u001b[0m b \u001b[39m=\u001b[39m ( np\u001b[39m.\u001b[39mdot(s, A) \u001b[39m%\u001b[39m p ) \u001b[39m+\u001b[39m E   \n\u001b[1;32m     <a href='vscode-notebook-cell:/home/c4ndyp0p/sem7/capstone/implementation/dlwe.ipynb#W5sZmlsZQ%3D%3D?line=15'>16</a>\u001b[0m \u001b[39mreturn\u001b[39;00m (A, b)\n",
      "\u001b[0;31mNameError\u001b[0m: name 'E' is not defined"
     ]
    }
   ],
   "source": []
  },
  {
   "cell_type": "code",
   "execution_count": 59,
   "metadata": {},
   "outputs": [],
   "source": [
    "x =1\n",
    "assert x == 0 or x == 1"
   ]
  },
  {
   "cell_type": "code",
   "execution_count": null,
   "metadata": {},
   "outputs": [],
   "source": []
  }
 ],
 "metadata": {
  "kernelspec": {
   "display_name": "Python 3",
   "language": "python",
   "name": "python3"
  },
  "language_info": {
   "codemirror_mode": {
    "name": "ipython",
    "version": 3
   },
   "file_extension": ".py",
   "mimetype": "text/x-python",
   "name": "python",
   "nbconvert_exporter": "python",
   "pygments_lexer": "ipython3",
   "version": "3.10.12"
  },
  "orig_nbformat": 4
 },
 "nbformat": 4,
 "nbformat_minor": 2
}
