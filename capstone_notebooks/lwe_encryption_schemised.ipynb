{
 "cells": [
  {
   "cell_type": "markdown",
   "metadata": {},
   "source": [
    "# Learning with Errors and Regev Encryption (schemised ) :\n",
    "\n",
    "Using parameters from the paper: **One server for the price of Two: Simple and Fast Single-Server Private Information Retreival**\n",
    "\n",
    "Here the number of LWE samples(m) = m"
   ]
  },
  {
   "cell_type": "code",
   "execution_count": 258,
   "metadata": {},
   "outputs": [
    {
     "name": "stdout",
     "output_type": "stream",
     "text": [
      "scaling_factor = floor(q/p) = 8464.0\n",
      "x = [212 336]\n"
     ]
    }
   ],
   "source": [
    "import numpy as np\n",
    "\n",
    "\n",
    "# parameters\n",
    "n = 2**10\n",
    "m = 2 # sqrt(N), number of samples\n",
    "\n",
    "error_values = {\n",
    "    \"loc\": 0,\n",
    "    \"sigma\": 6.4,\n",
    "}\n",
    "q = 2**23\n",
    "p = 991 # plaintext modulus\n",
    "scaling_factor = np.floor(q/p)\n",
    "x = np.random.choice([i for i in range(0, p+1)], m)\n",
    "\n",
    "print(f\"scaling_factor = floor(q/p) = {np.floor(q/p)}\")\n",
    "print(f\"x = {x}\")\n"
   ]
  },
  {
   "cell_type": "code",
   "execution_count": 259,
   "metadata": {},
   "outputs": [],
   "source": [
    "#using matrices (when you have m samples)\n",
    "\n",
    "\n",
    "def sampleLWE(m,n,q,error_values, s):\n",
    "    A= np.random.randint(0, q, (m,n))\n",
    "    \n",
    "    e= np.random.normal(error_values[\"loc\"], error_values[\"sigma\"], (m) )\n",
    "\n",
    "    print(f\"A = {A}\")\n",
    "    print(f\"s = {s}\")\n",
    "    # print(f\"e = {e}\")\n",
    "\n",
    "\n",
    "    # Computing the dot product and adding the error\n",
    "\n",
    "    # Outputting the vectors a, s and the value b\n",
    "\n",
    "    b = (np.dot(A,s)  + e ) % q\n",
    "    print(f\"b = As + e mod q = {b}\")\n",
    "    # b_prime = (np.dot(A,s) % q + e) % q\n",
    "\n",
    "\n",
    "    return A, b\n",
    "\n",
    "\n"
   ]
  },
  {
   "cell_type": "code",
   "execution_count": 260,
   "metadata": {},
   "outputs": [],
   "source": [
    "# print(f\"A = \", A)\n",
    "# print(type(A), A.shape)\n",
    "# print(f\"s = \", s)\n",
    "# print(type(s), s.shape)\n",
    "# print(f\"e = \", e)\n",
    "# print(type(e), e.shape)"
   ]
  },
  {
   "cell_type": "code",
   "execution_count": 261,
   "metadata": {},
   "outputs": [
    {
     "name": "stdout",
     "output_type": "stream",
     "text": [
      "A = [[5440286  892710 5789796 ... 8386616 1142527 2731425]\n",
      " [7038482 2717314 6379904 ... 6074890 2859977 1175423]]\n",
      "s = [2998393 6110902 4419832 ... 7223608 2677495 2592180]\n",
      "b = As + e mod q = [5452310.  775800.]\n"
     ]
    }
   ],
   "source": [
    "secret= np.random.randint(0, q, (n))\n",
    "\n",
    "A, b = sampleLWE(m,n,q,error_values, secret)"
   ]
  },
  {
   "cell_type": "code",
   "execution_count": 262,
   "metadata": {},
   "outputs": [],
   "source": [
    "# print(f\"as mod q = {np.dot(A, s)% q}\")\n",
    "\n",
    "# print(f\"(b = As mod q + e ) mod q = \", b)\n",
    "\n",
    "# print(f\" b_prime = As + e mod q    = {b_prime}\")"
   ]
  },
  {
   "cell_type": "code",
   "execution_count": 263,
   "metadata": {},
   "outputs": [],
   "source": [
    "# Encryption\n",
    "\n",
    "def regevEncrypt(b, x, p, q):\n",
    "    scaling_factor = np.floor(q/p)\n",
    "    c =( b + scaling_factor*x ) \n",
    "    c_mod_q = c % q\n",
    "\n",
    "    \n",
    "\n",
    "    # print(f\"c= As + e + (floor(q/p) * x) \\n \\\\ \\\n",
    "    # = As + e + {scaling_factor}*{x} = {c} = {c_mod_q}\")\n",
    "\n",
    "    return c_mod_q"
   ]
  },
  {
   "cell_type": "code",
   "execution_count": 264,
   "metadata": {},
   "outputs": [],
   "source": [
    "c = regevEncrypt(b, x, p, q)"
   ]
  },
  {
   "cell_type": "code",
   "execution_count": 265,
   "metadata": {},
   "outputs": [],
   "source": [
    "#Decryption\n",
    "\n",
    "# print(np.dot(a, s), np.dot(a,s) % q)\n",
    "\n",
    "def rounding(x, round_off_to):\n",
    "    \"\"\"\n",
    "    Rounds off a number x to the nearest multiple of round_off_to.\n",
    "\n",
    "    :param x: The number to be rounded off.\n",
    "    :param round_off_to: The nearest multiple to which x needs to be rounded off.\n",
    "    :return: The rounded off value.\n",
    "    \"\"\"\n",
    "    return np.round(x / round_off_to) * round_off_to\n",
    "\n",
    "def regevDecrpt(A, s, q, p):\n",
    "    scaling_factor = np.floor(q/p)\n",
    "    # a_s_mod_q = np.dot(A,s)%q \n",
    "    # print(f\"a_s_modq = as mod q = \", a_s_mod_q)\n",
    "\n",
    "    d_hat = (c - np.dot(A, s)) % q \n",
    "\n",
    "    print(f\"d_hat = c - as mod q= {c} - {np.dot(A,s)} mod q = \", d_hat)\n",
    "    rounded_d = rounding(d_hat, scaling_factor)\n",
    "\n",
    "\n",
    "\n",
    "    print(f\"rounded d = {rounded_d}\")\n",
    "    \n",
    "    d = rounded_d / scaling_factor\n",
    "    print(f\"d = rounded_d/ floor(q/p)= {rounded_d}/ {scaling_factor} = {d}\" )\n",
    "    return d\n",
    "\n",
    "\n",
    "\n",
    "\n"
   ]
  },
  {
   "cell_type": "code",
   "execution_count": 266,
   "metadata": {},
   "outputs": [
    {
     "name": "stdout",
     "output_type": "stream",
     "text": [
      "x = [212 336]\n",
      "d_hat = c - as mod q= [7246678. 3619704.] - [17805561434419730 17456702912452213] mod q =  [1794372. 2843908.]\n",
      "rounded d = [1794368. 2843904.]\n",
      "d = rounded_d/ floor(q/p)= [1794368. 2843904.]/ 8464.0 = [212. 336.]\n"
     ]
    }
   ],
   "source": [
    "print(f\"x = {x}\")\n",
    "d = regevDecrpt(A, secret, q, p)"
   ]
  }
 ],
 "metadata": {
  "kernelspec": {
   "display_name": "Python 3",
   "language": "python",
   "name": "python3"
  },
  "language_info": {
   "codemirror_mode": {
    "name": "ipython",
    "version": 3
   },
   "file_extension": ".py",
   "mimetype": "text/x-python",
   "name": "python",
   "nbconvert_exporter": "python",
   "pygments_lexer": "ipython3",
   "version": "3.10.12"
  }
 },
 "nbformat": 4,
 "nbformat_minor": 2
}
