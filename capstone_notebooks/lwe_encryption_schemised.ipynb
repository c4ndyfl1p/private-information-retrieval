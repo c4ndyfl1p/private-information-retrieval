{
 "cells": [
  {
   "cell_type": "markdown",
   "metadata": {},
   "source": [
    "# Learning with Errors and Regev Encryption (schemised ) :\n",
    "\n",
    "Using parameters from the paper: **One server for the price of Two: Simple and Fast Single-Server Private Information Retreival**\n",
    "\n",
    "Here the number of LWE samples(m) = m"
   ]
  },
  {
   "cell_type": "code",
   "execution_count": 83,
   "metadata": {},
   "outputs": [
    {
     "name": "stdout",
     "output_type": "stream",
     "text": [
      "scaling_factor = floor(q/p) = 8464.0\n",
      "x = [1 1 0 0 1]\n"
     ]
    }
   ],
   "source": [
    "import numpy as np\n",
    "\n",
    "\n",
    "# parameters\n",
    "n = 2**10\n",
    "m = 5 # sqrt(N), number of samples\n",
    "\n",
    "error_values = {\n",
    "    \"loc\": 0,\n",
    "    \"sigma\": 6.4,\n",
    "}\n",
    "q = 2**23\n",
    "p = 991 # plaintext modulus\n",
    "scaling_factor = np.floor(q/p)\n",
    "# x = np.random.choice([i for i in range(0, p+1)], m)\n",
    "x = np.random.choice([i for i in range(0, 2)], m)\n",
    "\n",
    "# x = np.array([0, 1])\n",
    "\n",
    "print(f\"scaling_factor = floor(q/p) = {np.floor(q/p)}\")\n",
    "print(f\"x = {x}\")\n"
   ]
  },
  {
   "cell_type": "code",
   "execution_count": 84,
   "metadata": {},
   "outputs": [],
   "source": [
    "#using matrices (when you have m samples)\n",
    "\n",
    "\n",
    "def sampleLWE(m,n,q,error_values, s):\n",
    "    A= np.random.randint(0, q, (m,n))\n",
    "    \n",
    "    e= np.random.normal(error_values[\"loc\"], error_values[\"sigma\"], (m) )\n",
    "\n",
    "    print(f\"A = {A}\")\n",
    "    print(f\"s = {s}\")\n",
    "    # print(f\"e = {e}\")\n",
    "\n",
    "\n",
    "    # Computing the dot product and adding the error\n",
    "\n",
    "    # Outputting the vectors a, s and the value b\n",
    "\n",
    "    b = (np.dot(A,s)  + e ) % q\n",
    "    print(f\"b = As + e mod q = {b}\")\n",
    "    # b_prime = (np.dot(A,s) % q + e) % q\n",
    "\n",
    "\n",
    "    return A, b\n",
    "\n",
    "\n"
   ]
  },
  {
   "cell_type": "code",
   "execution_count": 85,
   "metadata": {},
   "outputs": [],
   "source": [
    "# print(f\"A = \", A)\n",
    "# print(type(A), A.shape)\n",
    "# print(f\"s = \", s)\n",
    "# print(type(s), s.shape)\n",
    "# print(f\"e = \", e)\n",
    "# print(type(e), e.shape)"
   ]
  },
  {
   "cell_type": "code",
   "execution_count": 86,
   "metadata": {},
   "outputs": [
    {
     "name": "stdout",
     "output_type": "stream",
     "text": [
      "A = [[4428230 7580202 1337775 ... 1151746 5475397 6814858]\n",
      " [  67830 2879900 2240218 ... 2795930 1600277   34347]\n",
      " [8291932 8053719 2120747 ... 5299398 7248522  446158]\n",
      " [6871035 1793663  775303 ... 3533582 7610383  208551]\n",
      " [3575757 1541482 5613685 ... 2241445 4040905  324064]]\n",
      "s = [7484635 2924951 4359309 ... 5362632 8021733 3816114]\n",
      "b = As + e mod q = [3266240. 2629876. 3957420. 7038000. 3786464.]\n"
     ]
    }
   ],
   "source": [
    "secret= np.random.randint(0, q, (n))\n",
    "\n",
    "A, b = sampleLWE(m,n,q,error_values, secret)"
   ]
  },
  {
   "cell_type": "code",
   "execution_count": 87,
   "metadata": {},
   "outputs": [],
   "source": [
    "# print(f\"as mod q = {np.dot(A, s)% q}\")\n",
    "\n",
    "# print(f\"(b = As mod q + e ) mod q = \", b)\n",
    "\n",
    "# print(f\" b_prime = As + e mod q    = {b_prime}\")"
   ]
  },
  {
   "cell_type": "code",
   "execution_count": 88,
   "metadata": {},
   "outputs": [],
   "source": [
    "# Encryption\n",
    "\n",
    "def regevEncrypt(b, x, p, q):\n",
    "    scaling_factor = np.floor(q/p)\n",
    "    c =( b + scaling_factor*x ) \n",
    "    c_mod_q = c % q\n",
    "\n",
    "    \n",
    "\n",
    "    # print(f\"c= As + e + (floor(q/p) * x) \\n \\\\ \\\n",
    "    # = As + e + {scaling_factor}*{x} = {c} = {c_mod_q}\")\n",
    "\n",
    "    return c_mod_q"
   ]
  },
  {
   "cell_type": "code",
   "execution_count": 89,
   "metadata": {},
   "outputs": [
    {
     "name": "stdout",
     "output_type": "stream",
     "text": [
      "[3274704. 2638340. 3957420. 7038000. 3794928.]\n"
     ]
    }
   ],
   "source": [
    "c = regevEncrypt(b, x, p, q)\n",
    "\n",
    "print(c)"
   ]
  },
  {
   "cell_type": "code",
   "execution_count": 90,
   "metadata": {},
   "outputs": [],
   "source": [
    "#Decryption\n",
    "\n",
    "# print(np.dot(a, s), np.dot(a,s) % q)\n",
    "\n",
    "def rounding(x, round_off_to):\n",
    "    \"\"\"\n",
    "    Rounds off a number x to the nearest multiple of round_off_to.\n",
    "\n",
    "    :param x: The number to be rounded off.\n",
    "    :param round_off_to: The nearest multiple to which x needs to be rounded off.\n",
    "    :return: The rounded off value.\n",
    "    \"\"\"\n",
    "    return np.round(x / round_off_to) * round_off_to\n",
    "\n",
    "def regevDecrpt(A, s, q, p, c):\n",
    "    scaling_factor = np.floor(q/p)\n",
    "    # a_s_mod_q = np.dot(A,s)%q \n",
    "    # print(f\"a_s_modq = as mod q = \", a_s_mod_q)\n",
    "\n",
    "    d_hat = (c - np.dot(A, s)) % q \n",
    "\n",
    "    print(f\"d_hat = c - as mod q= {c} - {np.dot(A,s)} mod q = \", d_hat)\n",
    "    rounded_d = rounding(d_hat, scaling_factor)\n",
    "\n",
    "\n",
    "\n",
    "    print(f\"rounded d = {rounded_d}\")\n",
    "    \n",
    "    d = rounded_d / scaling_factor\n",
    "    print(f\"d = rounded_d/ floor(q/p)= {rounded_d}/ {scaling_factor} = {d}\" )\n",
    "    return d \n",
    "\n",
    "\n",
    "\n",
    "\n"
   ]
  },
  {
   "cell_type": "code",
   "execution_count": 91,
   "metadata": {},
   "outputs": [
    {
     "name": "stdout",
     "output_type": "stream",
     "text": [
      "x = [1 1 0 0 1]\n",
      "d_hat = c - as mod q= [3274704. 2638340. 3957420. 7038000. 3794928.] - [19598550466942654 18183143087939836 18886024234820269 18270003319759930\n",
      " 19059480809031384] mod q =  [   8464.    8456.       0. 8388600.    8472.]\n",
      "rounded d = [   8464.    8464.       0. 8387824.    8464.]\n",
      "d = rounded_d/ floor(q/p)= [   8464.    8464.       0. 8387824.    8464.]/ 8464.0 = [  1.   1.   0. 991.   1.]\n"
     ]
    }
   ],
   "source": [
    "print(f\"x = {x}\")\n",
    "d = regevDecrpt(A, secret, q, p, c)"
   ]
  }
 ],
 "metadata": {
  "kernelspec": {
   "display_name": "Python 3",
   "language": "python",
   "name": "python3"
  },
  "language_info": {
   "codemirror_mode": {
    "name": "ipython",
    "version": 3
   },
   "file_extension": ".py",
   "mimetype": "text/x-python",
   "name": "python",
   "nbconvert_exporter": "python",
   "pygments_lexer": "ipython3",
   "version": "3.10.12"
  }
 },
 "nbformat": 4,
 "nbformat_minor": 2
}
